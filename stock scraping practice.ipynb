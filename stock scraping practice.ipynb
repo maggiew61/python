{
 "cells": [
  {
   "cell_type": "code",
   "execution_count": 16,
   "metadata": {},
   "outputs": [
    {
     "name": "stdout",
     "output_type": "stream",
     "text": [
      "fetching-data-in-your-react-application--cms-30670\n",
      "rest-vs-grpc-battle-of-the-apis--cms-30711\n",
      "regular-expressions-with-go-part-2--cms-30406\n",
      "regular-expressions-with-go-part-1--cms-30403\n",
      "8-things-that-make-jest-the-best-react-testing-framework--cms-30534\n",
      "modern-web-scraping-with-beautifulsoup-and-selenium--cms-30486\n",
      "text-generation-with-go-templates--cms-30441\n",
      "cleaning-up-your-data-with-go-part-2--cms-30360\n",
      "cleaning-up-your-data-with-go-part-1--cms-30298\n",
      "how-i-learned-to-stop-worrying-and-love-the-capitalization-tool--cms-30299\n",
      "revisiting-python-packaging-with-pipenv--cms-30297\n",
      "json-serialization-with-golang--cms-30209\n"
     ]
    }
   ],
   "source": [
    "# 16\n",
    "# goal: get all the urls of all the articles\n",
    "from bs4 import BeautifulSoup\n",
    "import requests as requests\n",
    "def get_page(url):\n",
    "    r = requests.get(url)\n",
    "#     print(r.ok)   #use this to check connection\n",
    "    content = r.content.decode('utf-8')  #r.content contains the page\n",
    "    return BeautifulSoup(content, 'html.parser')\n",
    "\n",
    "def get_page_articles(page):\n",
    "    elements = page.findAll('article')\n",
    "#     The HTML for each article is enclosed in an <article> tag. \n",
    "#     It finds all the article elements on the page, drills down to their links, \n",
    "#     and extracts the href attribute to get the URL of the tutorial:\n",
    "    articles = [e.a.attrs['href'] for e in elements]\n",
    "    return articles\n",
    "\n",
    "# The get_page() function below fetches a web page by URL, decodes it to UTF-8, \n",
    "# and parses it into a BeautifulSoup object using the HTML parser.\n",
    "page = get_page('https://tutsplus.com/authors/gigi-sayfan')\n",
    "articles = get_page_articles(page)\n",
    "prefix = 'https://code.tutsplus.com/tutorials'\n",
    "for a in articles:\n",
    "#     gets all the articles from my page and prints them (without the common prefix):\n",
    "    print(a[len(prefix):])"
   ]
  },
  {
   "cell_type": "code",
   "execution_count": null,
   "metadata": {},
   "outputs": [],
   "source": []
  }
 ],
 "metadata": {
  "kernelspec": {
   "display_name": "Python 3",
   "language": "python",
   "name": "python3"
  },
  "language_info": {
   "codemirror_mode": {
    "name": "ipython",
    "version": 3
   },
   "file_extension": ".py",
   "mimetype": "text/x-python",
   "name": "python",
   "nbconvert_exporter": "python",
   "pygments_lexer": "ipython3",
   "version": "3.6.4"
  }
 },
 "nbformat": 4,
 "nbformat_minor": 2
}
