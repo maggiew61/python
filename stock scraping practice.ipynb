{
 "cells": [
  {
   "cell_type": "code",
   "execution_count": 16,
   "metadata": {},
   "outputs": [
    {
     "name": "stdout",
     "output_type": "stream",
     "text": [
      "fetching-data-in-your-react-application--cms-30670\n",
      "rest-vs-grpc-battle-of-the-apis--cms-30711\n",
      "regular-expressions-with-go-part-2--cms-30406\n",
      "regular-expressions-with-go-part-1--cms-30403\n",
      "8-things-that-make-jest-the-best-react-testing-framework--cms-30534\n",
      "modern-web-scraping-with-beautifulsoup-and-selenium--cms-30486\n",
      "text-generation-with-go-templates--cms-30441\n",
      "cleaning-up-your-data-with-go-part-2--cms-30360\n",
      "cleaning-up-your-data-with-go-part-1--cms-30298\n",
      "how-i-learned-to-stop-worrying-and-love-the-capitalization-tool--cms-30299\n",
      "revisiting-python-packaging-with-pipenv--cms-30297\n",
      "json-serialization-with-golang--cms-30209\n"
     ]
    }
   ],
   "source": [
    "# https://code.tutsplus.com/tutorials/modern-web-scraping-with-beautifulsoup-and-selenium--cms-30486\n",
    "# import libraries\n",
    "# we use the module for opening url\n",
    "from bs4 import BeautifulSoup\n",
    "import requests\n",
    "\n",
    "# specify the url\n",
    "url = 'https://tutsplus.com/authors/gigi-sayfan?_ga=2.83167120.708536068.1528929272-936600550.1527215461'\n",
    "\n",
    "def get_page(url):\n",
    "    r = requests.get(url)\n",
    "    content = r.content.decode('utf-8')\n",
    "    return BeautifulSoup(content, 'html.parser')\n",
    "\n",
    "def get_page_articles(page):\n",
    "    elements = page.findAll('article')\n",
    "    articles = [e.a.attrs['href'] for e in elements]\n",
    "    return articles\n",
    "\n",
    "page = get_page('https://tutsplus.com/authors/gigi-sayfan')\n",
    "articles = get_page_articles(page)\n",
    "prefix = 'https://code.tutsplus.com/tutorials'\n",
    "for a in articles:\n",
    "    print(a[len(prefix):])"
   ]
  }
 ],
 "metadata": {
  "kernelspec": {
   "display_name": "Python 3",
   "language": "python",
   "name": "python3"
  },
  "language_info": {
   "codemirror_mode": {
    "name": "ipython",
    "version": 3
   },
   "file_extension": ".py",
   "mimetype": "text/x-python",
   "name": "python",
   "nbconvert_exporter": "python",
   "pygments_lexer": "ipython3",
   "version": "3.6.4"
  }
 },
 "nbformat": 4,
 "nbformat_minor": 2
}
