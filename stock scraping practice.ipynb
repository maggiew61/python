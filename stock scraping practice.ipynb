{
 "cells": [
  {
   "cell_type": "code",
   "execution_count": 21,
   "metadata": {},
   "outputs": [
    {
     "name": "stdout",
     "output_type": "stream",
     "text": [
      "S&P 500 Index\n"
     ]
    }
   ],
   "source": [
    "# https://medium.freecodecamp.org/how-to-scrape-websites-with-python-and-beautifulsoup-5946935d93fe\n",
    "# import libraries\n",
    "# we use the module for opening url\n",
    "from urllib.request import urlopen #to replace urllib2 in python2\n",
    "from bs4 import BeautifulSoup\n",
    "\n",
    "# specify the url\n",
    "quote_page = 'http://www.bloomberg.com/quote/SPX:IND'\n",
    "\n",
    "# query the website and return the html to the variable ‘page’\n",
    "page = urlopen(quote_page)\n",
    "\n",
    "# parse the html using beautiful soup and store in variable `soup`\n",
    "# parse definiton: breaking up original text\n",
    "# so now we have the html part of hte page\n",
    "soup = BeautifulSoup(page, 'html.parser')\n",
    "\n",
    "# Take out the <div> of name and get its value using find()<--extracts content\n",
    "name_box = soup.find('h1', attrs={'class': 'name'})   #should be companyName__99a4824b, dont' know why name worked\n",
    "name = name_box.text.strip() # strip() is used to remove starting and trailing, otherwise there will be spaces\n",
    "print (name)"
   ]
  }
 ],
 "metadata": {
  "kernelspec": {
   "display_name": "Python 3",
   "language": "python",
   "name": "python3"
  },
  "language_info": {
   "codemirror_mode": {
    "name": "ipython",
    "version": 3
   },
   "file_extension": ".py",
   "mimetype": "text/x-python",
   "name": "python",
   "nbconvert_exporter": "python",
   "pygments_lexer": "ipython3",
   "version": "3.6.4"
  }
 },
 "nbformat": 4,
 "nbformat_minor": 2
}
