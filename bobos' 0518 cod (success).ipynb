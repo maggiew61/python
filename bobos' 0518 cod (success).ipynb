{
 "cells": [
  {
   "cell_type": "code",
   "execution_count": 1,
   "metadata": {},
   "outputs": [],
   "source": [
    "from selenium import webdriver\n",
    "base_url = 'https://www.ptt.cc/bbs/MakeUp/index.html'\n",
    "\n",
    "\n",
    "option = webdriver.ChromeOptions()\n",
    "option.add_argument(\"--incognito\")\n",
    "\n",
    "driver = webdriver.Chrome(\"D:/chromedriver_win32/chromedriver.exe\", chrome_options=option)\n",
    "driver.get(base_url)"
   ]
  },
  {
   "cell_type": "code",
   "execution_count": 4,
   "metadata": {},
   "outputs": [
    {
     "ename": "NameError",
     "evalue": "name 'soup' is not defined",
     "output_type": "error",
     "traceback": [
      "\u001b[1;31m---------------------------------------------------------------------------\u001b[0m",
      "\u001b[1;31mNameError\u001b[0m                                 Traceback (most recent call last)",
      "\u001b[1;32m<ipython-input-4-81bcdc4818c8>\u001b[0m in \u001b[0;36m<module>\u001b[1;34m()\u001b[0m\n\u001b[0;32m     29\u001b[0m         \u001b[0mprint\u001b[0m\u001b[1;33m(\u001b[0m\u001b[0mnum\u001b[0m\u001b[1;33m,\u001b[0m\u001b[0mtitle\u001b[0m\u001b[1;33m,\u001b[0m\u001b[0mauthor\u001b[0m\u001b[1;33m,\u001b[0m\u001b[0mdate\u001b[0m\u001b[1;33m,\u001b[0m\u001b[0mcomplete_textUrl\u001b[0m\u001b[1;33m)\u001b[0m\u001b[1;33m\u001b[0m\u001b[0m\n\u001b[0;32m     30\u001b[0m     \u001b[1;32mreturn\u001b[0m \u001b[0mresults\u001b[0m\u001b[1;33m,\u001b[0m\u001b[0mcomplete_pre_url\u001b[0m\u001b[1;33m,\u001b[0m\u001b[0mcomplete_textUrl\u001b[0m\u001b[1;33m,\u001b[0m\u001b[0mtitle\u001b[0m\u001b[1;33m\u001b[0m\u001b[0m\n\u001b[1;32m---> 31\u001b[1;33m \u001b[0mrs\u001b[0m\u001b[1;33m,\u001b[0m\u001b[0murl\u001b[0m\u001b[1;33m,\u001b[0m\u001b[0mcomplete_textUrl\u001b[0m\u001b[1;33m,\u001b[0m\u001b[0mtitle\u001b[0m\u001b[1;33m=\u001b[0m \u001b[0mparse_page\u001b[0m\u001b[1;33m(\u001b[0m\u001b[0msoup\u001b[0m\u001b[1;33m)\u001b[0m\u001b[1;33m\u001b[0m\u001b[0m\n\u001b[0m",
      "\u001b[1;31mNameError\u001b[0m: name 'soup' is not defined"
     ]
    }
   ],
   "source": [
    "from urllib.parse import urljoin\n",
    "def parse_page(soup):\n",
    "    big_tag = soup.find_all(class_ = \"r-ent\")  #or big_tag = soup.select(\".r-ent\")    #the whole div\n",
    "    pre =  soup.find_all(class_ = \"btn wide\")\n",
    "    pre_url=pre[1]['href']\n",
    "    print(\"pre url is\",pre_url)\n",
    "    complete_pre_url = urljoin(base_url, pre_url)\n",
    "    results=[]\n",
    "    i = 0\n",
    "    while i < len(big_tag):\n",
    "        num = big_tag[i].find(class_=\"nrec\").next_element.string\n",
    "        try:\n",
    "            title = big_tag[i].find('a').string\n",
    "            textUrl = big_tag[i].find('a','herf')\n",
    "            complete_textUrl = urljoin(base_url, textUrl)\n",
    "        except AttributeError:\n",
    "            title = \"本文已刪除\"\n",
    "            complete_textUrl = '此文章的url不存在'\n",
    "        author = big_tag[i].find(class_='author').string\n",
    "        date=big_tag[i].find(class_='date').string\n",
    "        i=i+1\n",
    "        r = dict(\n",
    "        num=num,\n",
    "        title=title,\n",
    "        author=author,\n",
    "        date=date)\n",
    "        results += [r]\n",
    "        print(num,title,author,date,complete_textUrl)\n",
    "    return results,complete_pre_url,complete_textUrl,title\n",
    "rs,url,complete_textUrl,title= parse_page(soup)\n"
   ]
  },
  {
   "cell_type": "code",
   "execution_count": 27,
   "metadata": {},
   "outputs": [
    {
     "name": "stdout",
     "output_type": "stream",
     "text": [
      "\n",
      "[心得] 理膚寶水防曬噴霧挑戰金門沒曬黑!\n",
      "\n",
      "\n",
      "Re: [閒聊] YSL限量76平價替代色 & 2018的限量脣彩們\n",
      "\n",
      "\n",
      "[閒聊] 今天在西門美華泰買的口紅雨衣\n",
      "\n",
      "\n",
      "[心得] 混合油肌夏粉餅Chanel,suqqu,香緹卡,肌鑰\n",
      "\n",
      "\n",
      "[心得] 超便宜卡翠絲購物心得\n",
      "\n",
      "\n",
      "[心得] maybelline新款金屬唇膏銀河粉 石英紅心\n",
      "\n",
      "\n",
      "[選擇] Joe Blasco 粉底膏選色\n",
      "\n",
      "\n",
      "[靠櫃] 毛孔肌試粉底(花瓣/水粉底/超持妝)\n",
      "\n",
      "\n",
      "[心得] 那些我用過的臉部卸妝好物跟雷物\n",
      "\n",
      "\n",
      "[心得] 英國開架好物：MUA烘焙打亮餅4色分享\n",
      "\n",
      "\n",
      "[心得] Opera金管限定色 #11 #12\n",
      "\n",
      "\n",
      "[選擇] 白肌的粉底調色產品\n",
      "\n",
      "\n",
      "[心得] 我的Sigma刷具使用心得\n",
      "\n",
      "\n",
      "[妝容] 想當芒果少女hen簡單(BH眼妝)\n",
      "\n",
      "\n",
      "[心得] 宛如粉底液般！everydayminerals礦物粉底\n",
      "\n",
      "\n",
      "[心得] Colourpop-Fortune單眼皮的4種眼妝\n",
      "\n",
      "\n",
      "[問題] COVERMARK的柔紗搭配粉盒？\n",
      "\n",
      "\n",
      "\t\t\t\n",
      "\t\t\t\t(本文已被刪除) [llamaduck]\n",
      "\t\t\t\n",
      "\t\t\t\n",
      "\n",
      "[問題] 單眼皮新手日常眼妝求批\n",
      "\n",
      "\n",
      "[閒聊] Zoeva 眼影 南瓜及可可隨身盤\n",
      "\n"
     ]
    }
   ],
   "source": [
    "driver.find_element_by_xpath(\"\"\"//*[@id=\"action-bar-container\"]/div/div[2]/a[2]\"\"\").click()\n",
    "#use soup to parse the page\n",
    "soup = BeautifulSoup(driver.page_source ,\"html.parser\")  \n",
    "xs = soup.select(\".title\")\n",
    "for i in xs:\n",
    "    print(i.text)\n"
   ]
  }
 ],
 "metadata": {
  "kernelspec": {
   "display_name": "Python 3",
   "language": "python",
   "name": "python3"
  },
  "language_info": {
   "codemirror_mode": {
    "name": "ipython",
    "version": 3
   },
   "file_extension": ".py",
   "mimetype": "text/x-python",
   "name": "python",
   "nbconvert_exporter": "python",
   "pygments_lexer": "ipython3",
   "version": "3.6.4"
  }
 },
 "nbformat": 4,
 "nbformat_minor": 2
}
