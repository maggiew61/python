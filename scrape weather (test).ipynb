{
 "cells": [
  {
   "cell_type": "code",
   "execution_count": 113,
   "metadata": {},
   "outputs": [],
   "source": [
    "from bs4 import BeautifulSoup   \n",
    "from selenium import webdriver\n",
    "\n",
    "option = webdriver.ChromeOptions()\n",
    "option.add_argument(\"--incognito\")\n",
    "\n",
    "# driver.get(\"https://www.ptt.cc/bbs/MakeUp/index.html\")\n",
    "# soup = BeautifulSoup(driver.page_source ,\"html.parser\") \n",
    "\n",
    "\n",
    "driver = webdriver.Chrome(\"D:/chromedriver_win32/chromedriver.exe\", chrome_options=option)\n",
    "driver.get('http://worldweather.wmo.int/tc/country.html?countryCode=1')"
   ]
  },
  {
   "cell_type": "code",
   "execution_count": 115,
   "metadata": {},
   "outputs": [
    {
     "name": "stdout",
     "output_type": "stream",
     "text": [
      "7月3日(二) (日)\n",
      "{'num': '7月3日(二)', 'min': '28°C', 'max': '34°C'}\n",
      "7月4日(三) (日)\n",
      "{'num': '7月4日(三)', 'min': '28°C', 'max': '34°C'}\n",
      "7月5日(四) (日)\n",
      "{'num': '7月5日(四)', 'min': '28°C', 'max': '34°C'}\n",
      "7月6日(五) (日)\n",
      "{'num': '7月6日(五)', 'min': '28°C', 'max': '34°C'}\n",
      "7月7日(六) (日)\n",
      "{'num': '7月7日(六)', 'min': '26°C', 'max': '34°C'}\n",
      "7月8日(日) (日)\n",
      "{'num': '7月8日(日)', 'min': '27°C', 'max': '33°C'}\n"
     ]
    }
   ],
   "source": [
    "# #use soup to parse the page\n",
    "driver.find_element_by_xpath(\"\"\"/html/body/div/div[7]/div[3]/div[1]/div[2]/a\"\"\").click()\n",
    "soup = BeautifulSoup(driver.page_source ,\"html.parser\")  \n",
    "\n",
    " \n",
    "big_tag = soup.select(\".city_forecast_day_object\")\n",
    "xs = soup.find(class_=\"present_rh_value\").string\n",
    "results=[]\n",
    "i = 0\n",
    "\n",
    "while i < len(big_tag):\n",
    "#     \n",
    "    #find the number\n",
    "#     num = big_tag[i].select(\".city_fc_date.fs0\")\n",
    "#     author = big_tag[i].select('.max_temp_icon.fs0')\n",
    "    num1= ''\n",
    "    num = big_tag[i].find(class_=\"city_fc_date fs0\")\n",
    "    for a in num.strings:\n",
    "        num1 += a.string\n",
    "    print(num1,num2)\n",
    "    min = big_tag[i].find(class_='min_temp_box').string\n",
    "    max = big_tag[i].find(class_='max_temp_icon').string\n",
    "\n",
    "    \n",
    "    \n",
    "    i=i+1\n",
    "    weatherTable = dict(\n",
    "    num=num1,\n",
    "    min=min,\n",
    "    max=max)\n",
    "    results += [weatherTable]\n",
    "    print(weatherTable)"
   ]
  },
  {
   "cell_type": "code",
   "execution_count": null,
   "metadata": {},
   "outputs": [],
   "source": [
    "w.get\n",
    "分city and country\n",
    "city 由js產生\n",
    "$wget website\n",
    "\n",
    "headerless scraping: no window but shows result\n",
    "see the country code and city code\n",
    "\n",
    "use country to find all city id\n",
    "\n",
    "    \n",
    "    {'present':mositre:72},'forecases':[]}"
   ]
  },
  {
   "cell_type": "code",
   "execution_count": null,
   "metadata": {},
   "outputs": [],
   "source": []
  }
 ],
 "metadata": {
  "kernelspec": {
   "display_name": "Python 3",
   "language": "python",
   "name": "python3"
  },
  "language_info": {
   "codemirror_mode": {
    "name": "ipython",
    "version": 3
   },
   "file_extension": ".py",
   "mimetype": "text/x-python",
   "name": "python",
   "nbconvert_exporter": "python",
   "pygments_lexer": "ipython3",
   "version": "3.6.4"
  }
 },
 "nbformat": 4,
 "nbformat_minor": 2
}
