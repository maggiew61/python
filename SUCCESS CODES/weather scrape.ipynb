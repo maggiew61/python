{
 "cells": [
  {
   "cell_type": "code",
   "execution_count": 1,
   "metadata": {},
   "outputs": [],
   "source": [
    "from bs4 import BeautifulSoup   \n",
    "from selenium import webdriver\n",
    "from time import sleep\n",
    "option = webdriver.ChromeOptions()\n",
    "option.add_argument(\"--incognito\")\n",
    "\n",
    "# driver.get(\"https://www.ptt.cc/bbs/MakeUp/index.html\")\n",
    "# soup = BeautifulSoup(driver.page_source ,\"html.parser\") \n",
    "\n",
    "\n",
    "driver = webdriver.Chrome(\"D:/chromedriver_win32/chromedriver.exe\", chrome_options=option)\n",
    "driver.get('http://worldweather.wmo.int/tc/country.html?countryCode=1')\n"
   ]
  },
  {
   "cell_type": "code",
   "execution_count": 20,
   "metadata": {},
   "outputs": [
    {
     "data": {
      "text/plain": [
       "['98%',\n",
       " {'date': '7月11日(三)', 'min': 0, 'max': '30°C'},\n",
       " {'date': '7月12日(四)', 'min': '26°C', 'max': '29°C'},\n",
       " {'date': '7月13日(五)', 'min': '26°C', 'max': '31°C'},\n",
       " {'date': '7月14日(六)', 'min': '25°C', 'max': '30°C'},\n",
       " {'date': '7月15日(日)', 'min': '26°C', 'max': '31°C'},\n",
       " {'date': '7月16日(一)', 'min': '27°C', 'max': '30°C'},\n",
       " {'date': '7月17日(二)', 'min': '26°C', 'max': '29°C'}]"
      ]
     },
     "execution_count": 20,
     "metadata": {},
     "output_type": "execute_result"
    }
   ],
   "source": [
    "\n",
    "def index():\n",
    "    driver.find_element_by_xpath('''/html/body/div/div[7]/div[3]/div[1]/div[2]/a''').click()  #click on the element\n",
    "    soup = BeautifulSoup(driver.page_source ,\"html.parser\")  #use soup to parse the page\n",
    "\n",
    "    humidity = soup.find(class_=\"present_rh_value\").string  #find humidity and extract the string(text)part from the <div></div>\n",
    "    each_row = soup.find_all(class_=\"city_forecast_day_object\") #collect all the table rows in a list\n",
    "\n",
    "    i = 0\n",
    "    weatherTable2 = [humidity]\n",
    "\n",
    "    while i <len(each_row):\n",
    "\n",
    "        stringComplex = each_row[i].find(class_=\"city_fc_date fs0\")\n",
    "        text1 = ''\n",
    "        for j in stringComplex.strings:        \n",
    "            text1 += j.string\n",
    "\n",
    "        min = each_row[i].find(class_=\"min_temp_box fs0\").string #?不曉得為什麼不用.soup.find..\n",
    "        if min == None:\n",
    "            min = 0\n",
    "        max = each_row[i].find(class_=\"max_temp_icon fs0\").string\n",
    "\n",
    "        weatherTable = dict(\n",
    "        date=text1,\n",
    "        min=min,\n",
    "        max=max\n",
    "        )\n",
    "        i += 1\n",
    "        weatherTable2.append(weatherTable)    \n",
    "    return weatherTable2\n",
    "bb = index()\n",
    "bb\n"
   ]
  },
  {
   "cell_type": "code",
   "execution_count": 39,
   "metadata": {},
   "outputs": [
    {
     "name": "stdout",
     "output_type": "stream",
     "text": [
      "tdTags is [<a href=\"./city.html?cityId=1850\">三亞</a>]\n",
      "三亞\n",
      "{'date': '7月19日(四)', 'min': '26°C', 'max': '32°C'}\n",
      "tdTags is [<a href=\"./city.html?cityId=240\">上海</a>]\n",
      "上海\n",
      "{'date': '7月19日(四)', 'min': '27°C', 'max': '35°C'}\n",
      "tdTags is [<a href=\"./city.html?cityId=1843\">九江</a>]\n",
      "九江\n",
      "{'date': '7月19日(四)', 'min': '25°C', 'max': '35°C'}\n",
      "tdTags is [<a href=\"./city.html?cityId=1833\">包頭</a>]\n",
      "包頭\n",
      "{'date': '7月19日(四)', 'min': '19°C', 'max': '26°C'}\n",
      "tdTags is [<a href=\"./city.html?cityId=237\">北京</a>]\n",
      "北京\n",
      "{'date': '7月19日(四)', 'min': '25°C', 'max': '33°C'}\n",
      "tdTags is [<a href=\"./city.html?cityId=350\">南京</a>]\n",
      "南京\n",
      "{'date': '7月19日(四)', 'min': '26°C', 'max': '34°C'}\n",
      "tdTags is [<a href=\"./city.html?cityId=558\">南寧</a>]\n",
      "南寧\n",
      "{'date': '7月19日(四)', 'min': '26°C', 'max': '36°C'}\n",
      "tdTags is [<a href=\"./city.html?cityId=555\">南昌</a>]\n",
      "南昌\n",
      "{'date': '7月19日(四)', 'min': '28°C', 'max': '36°C'}\n",
      "tdTags is [<a href=\"./city.html?cityId=1858\">台中</a>]\n",
      "台中\n",
      "{'date': '7月19日(四)', 'min': '27°C', 'max': '33°C'}\n",
      "tdTags is [<a href=\"./city.html?cityId=354\">台北</a>]\n",
      "台北\n",
      "{'date': '7月19日(四)', 'min': '27°C', 'max': '33°C'}\n",
      "tdTags is [<a href=\"./city.html?cityId=553\">合肥</a>]\n",
      "合肥\n"
     ]
    },
    {
     "ename": "WebDriverException",
     "evalue": "Message: chrome not reachable\n  (Session info: chrome=67.0.3396.99)\n  (Driver info: chromedriver=2.40.565498 (ea082db3280dd6843ebfb08a625e3eb905c4f5ab),platform=Windows NT 10.0.17134 x86_64)\n",
     "output_type": "error",
     "traceback": [
      "\u001b[1;31m---------------------------------------------------------------------------\u001b[0m",
      "\u001b[1;31mWebDriverException\u001b[0m                        Traceback (most recent call last)",
      "\u001b[1;32m<ipython-input-39-a5e8e6180673>\u001b[0m in \u001b[0;36m<module>\u001b[1;34m()\u001b[0m\n\u001b[0;32m      9\u001b[0m         \u001b[0mprint\u001b[0m \u001b[1;33m(\u001b[0m\u001b[0mtag\u001b[0m\u001b[1;33m.\u001b[0m\u001b[0mtext\u001b[0m\u001b[1;33m)\u001b[0m\u001b[1;33m\u001b[0m\u001b[0m\n\u001b[0;32m     10\u001b[0m         \u001b[0ma\u001b[0m \u001b[1;33m=\u001b[0m \u001b[0mtag\u001b[0m\u001b[1;33m.\u001b[0m\u001b[0mtext\u001b[0m\u001b[1;33m\u001b[0m\u001b[0m\n\u001b[1;32m---> 11\u001b[1;33m         \u001b[0mhere\u001b[0m \u001b[1;33m=\u001b[0m \u001b[0mdriver\u001b[0m\u001b[1;33m.\u001b[0m\u001b[0mfind_element_by_link_text\u001b[0m\u001b[1;33m(\u001b[0m\u001b[0ma\u001b[0m\u001b[1;33m)\u001b[0m\u001b[1;33m.\u001b[0m\u001b[0mclick\u001b[0m\u001b[1;33m(\u001b[0m\u001b[1;33m)\u001b[0m\u001b[1;33m\u001b[0m\u001b[0m\n\u001b[0m\u001b[0;32m     12\u001b[0m         \u001b[0msleep\u001b[0m\u001b[1;33m(\u001b[0m\u001b[1;36m5\u001b[0m\u001b[1;33m)\u001b[0m\u001b[1;33m\u001b[0m\u001b[0m\n\u001b[0;32m     13\u001b[0m \u001b[1;33m\u001b[0m\u001b[0m\n",
      "\u001b[1;32m~\\Anaconda3\\lib\\site-packages\\selenium\\webdriver\\remote\\webdriver.py\u001b[0m in \u001b[0;36mfind_element_by_link_text\u001b[1;34m(self, link_text)\u001b[0m\n\u001b[0;32m    419\u001b[0m             \u001b[0melement\u001b[0m \u001b[1;33m=\u001b[0m \u001b[0mdriver\u001b[0m\u001b[1;33m.\u001b[0m\u001b[0mfind_element_by_link_text\u001b[0m\u001b[1;33m(\u001b[0m\u001b[1;34m'Sign In'\u001b[0m\u001b[1;33m)\u001b[0m\u001b[1;33m\u001b[0m\u001b[0m\n\u001b[0;32m    420\u001b[0m         \"\"\"\n\u001b[1;32m--> 421\u001b[1;33m         \u001b[1;32mreturn\u001b[0m \u001b[0mself\u001b[0m\u001b[1;33m.\u001b[0m\u001b[0mfind_element\u001b[0m\u001b[1;33m(\u001b[0m\u001b[0mby\u001b[0m\u001b[1;33m=\u001b[0m\u001b[0mBy\u001b[0m\u001b[1;33m.\u001b[0m\u001b[0mLINK_TEXT\u001b[0m\u001b[1;33m,\u001b[0m \u001b[0mvalue\u001b[0m\u001b[1;33m=\u001b[0m\u001b[0mlink_text\u001b[0m\u001b[1;33m)\u001b[0m\u001b[1;33m\u001b[0m\u001b[0m\n\u001b[0m\u001b[0;32m    422\u001b[0m \u001b[1;33m\u001b[0m\u001b[0m\n\u001b[0;32m    423\u001b[0m     \u001b[1;32mdef\u001b[0m \u001b[0mfind_elements_by_link_text\u001b[0m\u001b[1;33m(\u001b[0m\u001b[0mself\u001b[0m\u001b[1;33m,\u001b[0m \u001b[0mtext\u001b[0m\u001b[1;33m)\u001b[0m\u001b[1;33m:\u001b[0m\u001b[1;33m\u001b[0m\u001b[0m\n",
      "\u001b[1;32m~\\Anaconda3\\lib\\site-packages\\selenium\\webdriver\\remote\\webdriver.py\u001b[0m in \u001b[0;36mfind_element\u001b[1;34m(self, by, value)\u001b[0m\n\u001b[0;32m    955\u001b[0m         return self.execute(Command.FIND_ELEMENT, {\n\u001b[0;32m    956\u001b[0m             \u001b[1;34m'using'\u001b[0m\u001b[1;33m:\u001b[0m \u001b[0mby\u001b[0m\u001b[1;33m,\u001b[0m\u001b[1;33m\u001b[0m\u001b[0m\n\u001b[1;32m--> 957\u001b[1;33m             'value': value})['value']\n\u001b[0m\u001b[0;32m    958\u001b[0m \u001b[1;33m\u001b[0m\u001b[0m\n\u001b[0;32m    959\u001b[0m     \u001b[1;32mdef\u001b[0m \u001b[0mfind_elements\u001b[0m\u001b[1;33m(\u001b[0m\u001b[0mself\u001b[0m\u001b[1;33m,\u001b[0m \u001b[0mby\u001b[0m\u001b[1;33m=\u001b[0m\u001b[0mBy\u001b[0m\u001b[1;33m.\u001b[0m\u001b[0mID\u001b[0m\u001b[1;33m,\u001b[0m \u001b[0mvalue\u001b[0m\u001b[1;33m=\u001b[0m\u001b[1;32mNone\u001b[0m\u001b[1;33m)\u001b[0m\u001b[1;33m:\u001b[0m\u001b[1;33m\u001b[0m\u001b[0m\n",
      "\u001b[1;32m~\\Anaconda3\\lib\\site-packages\\selenium\\webdriver\\remote\\webdriver.py\u001b[0m in \u001b[0;36mexecute\u001b[1;34m(self, driver_command, params)\u001b[0m\n\u001b[0;32m    312\u001b[0m         \u001b[0mresponse\u001b[0m \u001b[1;33m=\u001b[0m \u001b[0mself\u001b[0m\u001b[1;33m.\u001b[0m\u001b[0mcommand_executor\u001b[0m\u001b[1;33m.\u001b[0m\u001b[0mexecute\u001b[0m\u001b[1;33m(\u001b[0m\u001b[0mdriver_command\u001b[0m\u001b[1;33m,\u001b[0m \u001b[0mparams\u001b[0m\u001b[1;33m)\u001b[0m\u001b[1;33m\u001b[0m\u001b[0m\n\u001b[0;32m    313\u001b[0m         \u001b[1;32mif\u001b[0m \u001b[0mresponse\u001b[0m\u001b[1;33m:\u001b[0m\u001b[1;33m\u001b[0m\u001b[0m\n\u001b[1;32m--> 314\u001b[1;33m             \u001b[0mself\u001b[0m\u001b[1;33m.\u001b[0m\u001b[0merror_handler\u001b[0m\u001b[1;33m.\u001b[0m\u001b[0mcheck_response\u001b[0m\u001b[1;33m(\u001b[0m\u001b[0mresponse\u001b[0m\u001b[1;33m)\u001b[0m\u001b[1;33m\u001b[0m\u001b[0m\n\u001b[0m\u001b[0;32m    315\u001b[0m             response['value'] = self._unwrap_value(\n\u001b[0;32m    316\u001b[0m                 response.get('value', None))\n",
      "\u001b[1;32m~\\Anaconda3\\lib\\site-packages\\selenium\\webdriver\\remote\\errorhandler.py\u001b[0m in \u001b[0;36mcheck_response\u001b[1;34m(self, response)\u001b[0m\n\u001b[0;32m    240\u001b[0m                 \u001b[0malert_text\u001b[0m \u001b[1;33m=\u001b[0m \u001b[0mvalue\u001b[0m\u001b[1;33m[\u001b[0m\u001b[1;34m'alert'\u001b[0m\u001b[1;33m]\u001b[0m\u001b[1;33m.\u001b[0m\u001b[0mget\u001b[0m\u001b[1;33m(\u001b[0m\u001b[1;34m'text'\u001b[0m\u001b[1;33m)\u001b[0m\u001b[1;33m\u001b[0m\u001b[0m\n\u001b[0;32m    241\u001b[0m             \u001b[1;32mraise\u001b[0m \u001b[0mexception_class\u001b[0m\u001b[1;33m(\u001b[0m\u001b[0mmessage\u001b[0m\u001b[1;33m,\u001b[0m \u001b[0mscreen\u001b[0m\u001b[1;33m,\u001b[0m \u001b[0mstacktrace\u001b[0m\u001b[1;33m,\u001b[0m \u001b[0malert_text\u001b[0m\u001b[1;33m)\u001b[0m\u001b[1;33m\u001b[0m\u001b[0m\n\u001b[1;32m--> 242\u001b[1;33m         \u001b[1;32mraise\u001b[0m \u001b[0mexception_class\u001b[0m\u001b[1;33m(\u001b[0m\u001b[0mmessage\u001b[0m\u001b[1;33m,\u001b[0m \u001b[0mscreen\u001b[0m\u001b[1;33m,\u001b[0m \u001b[0mstacktrace\u001b[0m\u001b[1;33m)\u001b[0m\u001b[1;33m\u001b[0m\u001b[0m\n\u001b[0m\u001b[0;32m    243\u001b[0m \u001b[1;33m\u001b[0m\u001b[0m\n\u001b[0;32m    244\u001b[0m     \u001b[1;32mdef\u001b[0m \u001b[0m_value_or_default\u001b[0m\u001b[1;33m(\u001b[0m\u001b[0mself\u001b[0m\u001b[1;33m,\u001b[0m \u001b[0mobj\u001b[0m\u001b[1;33m,\u001b[0m \u001b[0mkey\u001b[0m\u001b[1;33m,\u001b[0m \u001b[0mdefault\u001b[0m\u001b[1;33m)\u001b[0m\u001b[1;33m:\u001b[0m\u001b[1;33m\u001b[0m\u001b[0m\n",
      "\u001b[1;31mWebDriverException\u001b[0m: Message: chrome not reachable\n  (Session info: chrome=67.0.3396.99)\n  (Driver info: chromedriver=2.40.565498 (ea082db3280dd6843ebfb08a625e3eb905c4f5ab),platform=Windows NT 10.0.17134 x86_64)\n"
     ]
    }
   ],
   "source": [
    "soup = BeautifulSoup(driver.page_source ,\"html.parser\")\n",
    "# a = soup.find(class_=\"col_name fs0\")\n",
    "divTag = soup.find_all(\"div\", {\"class\": \"col_name fs0\"})\n",
    "\n",
    "for tag in divTag:\n",
    "    tdTags = tag.find_all(\"a\")\n",
    "    print('tdTags is',tdTags)\n",
    "    for tag in tdTags:\n",
    "        print (tag.text)\n",
    "        a = tag.text\n",
    "        here = driver.find_element_by_link_text(a).click()\n",
    "        driver.back()\n",
    "        sleep(5)"
   ]
  },
  {
   "cell_type": "code",
   "execution_count": 2,
   "metadata": {},
   "outputs": [
    {
     "name": "stdout",
     "output_type": "stream",
     "text": [
      "三亞\n",
      "['99%', {'date': '7月16日(一)', 'min': '25°C', 'max': '29°C'}, {'date': '7月17日(二)', 'min': '25°C', 'max': '29°C'}, {'date': '7月18日(三)', 'min': '25°C', 'max': '30°C'}, {'date': '7月19日(四)', 'min': '26°C', 'max': '31°C'}, {'date': '7月20日(五)', 'min': '26°C', 'max': '31°C'}, {'date': '7月21日(六)', 'min': '25°C', 'max': '31°C'}]\n",
      "上海\n",
      "['67%', {'date': '7月16日(一)', 'min': '27°C', 'max': '34°C'}, {'date': '7月17日(二)', 'min': '27°C', 'max': '34°C'}, {'date': '7月18日(三)', 'min': '27°C', 'max': '35°C'}, {'date': '7月19日(四)', 'min': '26°C', 'max': '35°C'}, {'date': '7月20日(五)', 'min': '28°C', 'max': '34°C'}, {'date': '7月21日(六)', 'min': '28°C', 'max': '34°C'}]\n",
      "九江\n",
      "['82%', {'date': '7月16日(一)', 'min': '25°C', 'max': '35°C'}, {'date': '7月17日(二)', 'min': '25°C', 'max': '36°C'}, {'date': '7月18日(三)', 'min': '26°C', 'max': '36°C'}, {'date': '7月19日(四)', 'min': '26°C', 'max': '37°C'}, {'date': '7月20日(五)', 'min': '26°C', 'max': '37°C'}, {'date': '7月21日(六)', 'min': '26°C', 'max': '37°C'}]\n",
      "包頭\n",
      "[None, {'date': '7月16日(一)', 'min': '20°C', 'max': '26°C'}, {'date': '7月17日(二)', 'min': '19°C', 'max': '31°C'}, {'date': '7月18日(三)', 'min': '20°C', 'max': '32°C'}, {'date': '7月19日(四)', 'min': '21°C', 'max': '30°C'}, {'date': '7月20日(五)', 'min': '20°C', 'max': '30°C'}, {'date': '7月21日(六)', 'min': '20°C', 'max': '29°C'}]\n",
      "北京\n",
      "['66%', {'date': '7月16日(一)', 'min': '25°C', 'max': '33°C'}, {'date': '7月17日(二)', 'min': '24°C', 'max': '30°C'}, {'date': '7月18日(三)', 'min': '24°C', 'max': '32°C'}, {'date': '7月19日(四)', 'min': '25°C', 'max': '33°C'}, {'date': '7月20日(五)', 'min': '26°C', 'max': '34°C'}, {'date': '7月21日(六)', 'min': '26°C', 'max': '34°C'}]\n",
      "南京\n",
      "['64%', {'date': '7月16日(一)', 'min': '27°C', 'max': '35°C'}, {'date': '7月17日(二)', 'min': '27°C', 'max': '36°C'}, {'date': '7月18日(三)', 'min': '26°C', 'max': '35°C'}, {'date': '7月19日(四)', 'min': '27°C', 'max': '35°C'}, {'date': '7月20日(五)', 'min': '27°C', 'max': '35°C'}, {'date': '7月21日(六)', 'min': '27°C', 'max': '35°C'}]\n",
      "南寧\n",
      "['74%', {'date': '7月16日(一)', 'min': '25°C', 'max': '30°C'}, {'date': '7月17日(二)', 'min': '24°C', 'max': '32°C'}, {'date': '7月18日(三)', 'min': '25°C', 'max': '33°C'}, {'date': '7月19日(四)', 'min': '26°C', 'max': '33°C'}, {'date': '7月20日(五)', 'min': '26°C', 'max': '32°C'}, {'date': '7月21日(六)', 'min': '27°C', 'max': '32°C'}]\n",
      "南昌\n",
      "['63%', {'date': '7月16日(一)', 'min': '27°C', 'max': '34°C'}, {'date': '7月17日(二)', 'min': '27°C', 'max': '36°C'}, {'date': '7月18日(三)', 'min': '28°C', 'max': '37°C'}, {'date': '7月19日(四)', 'min': '29°C', 'max': '37°C'}, {'date': '7月20日(五)', 'min': '29°C', 'max': '37°C'}, {'date': '7月21日(六)', 'min': '27°C', 'max': '36°C'}]\n",
      "台中\n"
     ]
    },
    {
     "ename": "WebDriverException",
     "evalue": "Message: chrome not reachable\n  (Session info: chrome=67.0.3396.99)\n  (Driver info: chromedriver=2.40.565498 (ea082db3280dd6843ebfb08a625e3eb905c4f5ab),platform=Windows NT 10.0.17134 x86_64)\n",
     "output_type": "error",
     "traceback": [
      "\u001b[1;31m---------------------------------------------------------------------------\u001b[0m",
      "\u001b[1;31mWebDriverException\u001b[0m                        Traceback (most recent call last)",
      "\u001b[1;32m<ipython-input-2-60892b0c71a7>\u001b[0m in \u001b[0;36m<module>\u001b[1;34m()\u001b[0m\n\u001b[0;32m      8\u001b[0m         \u001b[0mprint\u001b[0m \u001b[1;33m(\u001b[0m\u001b[0mtag\u001b[0m\u001b[1;33m.\u001b[0m\u001b[0mtext\u001b[0m\u001b[1;33m)\u001b[0m\u001b[1;33m\u001b[0m\u001b[0m\n\u001b[0;32m      9\u001b[0m         \u001b[0ma\u001b[0m \u001b[1;33m=\u001b[0m \u001b[0mtag\u001b[0m\u001b[1;33m.\u001b[0m\u001b[0mtext\u001b[0m\u001b[1;33m\u001b[0m\u001b[0m\n\u001b[1;32m---> 10\u001b[1;33m         \u001b[0mhere\u001b[0m \u001b[1;33m=\u001b[0m \u001b[0mdriver\u001b[0m\u001b[1;33m.\u001b[0m\u001b[0mfind_element_by_link_text\u001b[0m\u001b[1;33m(\u001b[0m\u001b[0ma\u001b[0m\u001b[1;33m)\u001b[0m\u001b[1;33m.\u001b[0m\u001b[0mclick\u001b[0m\u001b[1;33m(\u001b[0m\u001b[1;33m)\u001b[0m\u001b[1;33m\u001b[0m\u001b[0m\n\u001b[0m\u001b[0;32m     11\u001b[0m         \u001b[0msleep\u001b[0m\u001b[1;33m(\u001b[0m\u001b[1;36m5\u001b[0m\u001b[1;33m)\u001b[0m\u001b[1;33m\u001b[0m\u001b[0m\n\u001b[0;32m     12\u001b[0m \u001b[1;33m\u001b[0m\u001b[0m\n",
      "\u001b[1;32m~\\Anaconda3\\lib\\site-packages\\selenium\\webdriver\\remote\\webdriver.py\u001b[0m in \u001b[0;36mfind_element_by_link_text\u001b[1;34m(self, link_text)\u001b[0m\n\u001b[0;32m    419\u001b[0m             \u001b[0melement\u001b[0m \u001b[1;33m=\u001b[0m \u001b[0mdriver\u001b[0m\u001b[1;33m.\u001b[0m\u001b[0mfind_element_by_link_text\u001b[0m\u001b[1;33m(\u001b[0m\u001b[1;34m'Sign In'\u001b[0m\u001b[1;33m)\u001b[0m\u001b[1;33m\u001b[0m\u001b[0m\n\u001b[0;32m    420\u001b[0m         \"\"\"\n\u001b[1;32m--> 421\u001b[1;33m         \u001b[1;32mreturn\u001b[0m \u001b[0mself\u001b[0m\u001b[1;33m.\u001b[0m\u001b[0mfind_element\u001b[0m\u001b[1;33m(\u001b[0m\u001b[0mby\u001b[0m\u001b[1;33m=\u001b[0m\u001b[0mBy\u001b[0m\u001b[1;33m.\u001b[0m\u001b[0mLINK_TEXT\u001b[0m\u001b[1;33m,\u001b[0m \u001b[0mvalue\u001b[0m\u001b[1;33m=\u001b[0m\u001b[0mlink_text\u001b[0m\u001b[1;33m)\u001b[0m\u001b[1;33m\u001b[0m\u001b[0m\n\u001b[0m\u001b[0;32m    422\u001b[0m \u001b[1;33m\u001b[0m\u001b[0m\n\u001b[0;32m    423\u001b[0m     \u001b[1;32mdef\u001b[0m \u001b[0mfind_elements_by_link_text\u001b[0m\u001b[1;33m(\u001b[0m\u001b[0mself\u001b[0m\u001b[1;33m,\u001b[0m \u001b[0mtext\u001b[0m\u001b[1;33m)\u001b[0m\u001b[1;33m:\u001b[0m\u001b[1;33m\u001b[0m\u001b[0m\n",
      "\u001b[1;32m~\\Anaconda3\\lib\\site-packages\\selenium\\webdriver\\remote\\webdriver.py\u001b[0m in \u001b[0;36mfind_element\u001b[1;34m(self, by, value)\u001b[0m\n\u001b[0;32m    955\u001b[0m         return self.execute(Command.FIND_ELEMENT, {\n\u001b[0;32m    956\u001b[0m             \u001b[1;34m'using'\u001b[0m\u001b[1;33m:\u001b[0m \u001b[0mby\u001b[0m\u001b[1;33m,\u001b[0m\u001b[1;33m\u001b[0m\u001b[0m\n\u001b[1;32m--> 957\u001b[1;33m             'value': value})['value']\n\u001b[0m\u001b[0;32m    958\u001b[0m \u001b[1;33m\u001b[0m\u001b[0m\n\u001b[0;32m    959\u001b[0m     \u001b[1;32mdef\u001b[0m \u001b[0mfind_elements\u001b[0m\u001b[1;33m(\u001b[0m\u001b[0mself\u001b[0m\u001b[1;33m,\u001b[0m \u001b[0mby\u001b[0m\u001b[1;33m=\u001b[0m\u001b[0mBy\u001b[0m\u001b[1;33m.\u001b[0m\u001b[0mID\u001b[0m\u001b[1;33m,\u001b[0m \u001b[0mvalue\u001b[0m\u001b[1;33m=\u001b[0m\u001b[1;32mNone\u001b[0m\u001b[1;33m)\u001b[0m\u001b[1;33m:\u001b[0m\u001b[1;33m\u001b[0m\u001b[0m\n",
      "\u001b[1;32m~\\Anaconda3\\lib\\site-packages\\selenium\\webdriver\\remote\\webdriver.py\u001b[0m in \u001b[0;36mexecute\u001b[1;34m(self, driver_command, params)\u001b[0m\n\u001b[0;32m    312\u001b[0m         \u001b[0mresponse\u001b[0m \u001b[1;33m=\u001b[0m \u001b[0mself\u001b[0m\u001b[1;33m.\u001b[0m\u001b[0mcommand_executor\u001b[0m\u001b[1;33m.\u001b[0m\u001b[0mexecute\u001b[0m\u001b[1;33m(\u001b[0m\u001b[0mdriver_command\u001b[0m\u001b[1;33m,\u001b[0m \u001b[0mparams\u001b[0m\u001b[1;33m)\u001b[0m\u001b[1;33m\u001b[0m\u001b[0m\n\u001b[0;32m    313\u001b[0m         \u001b[1;32mif\u001b[0m \u001b[0mresponse\u001b[0m\u001b[1;33m:\u001b[0m\u001b[1;33m\u001b[0m\u001b[0m\n\u001b[1;32m--> 314\u001b[1;33m             \u001b[0mself\u001b[0m\u001b[1;33m.\u001b[0m\u001b[0merror_handler\u001b[0m\u001b[1;33m.\u001b[0m\u001b[0mcheck_response\u001b[0m\u001b[1;33m(\u001b[0m\u001b[0mresponse\u001b[0m\u001b[1;33m)\u001b[0m\u001b[1;33m\u001b[0m\u001b[0m\n\u001b[0m\u001b[0;32m    315\u001b[0m             response['value'] = self._unwrap_value(\n\u001b[0;32m    316\u001b[0m                 response.get('value', None))\n",
      "\u001b[1;32m~\\Anaconda3\\lib\\site-packages\\selenium\\webdriver\\remote\\errorhandler.py\u001b[0m in \u001b[0;36mcheck_response\u001b[1;34m(self, response)\u001b[0m\n\u001b[0;32m    240\u001b[0m                 \u001b[0malert_text\u001b[0m \u001b[1;33m=\u001b[0m \u001b[0mvalue\u001b[0m\u001b[1;33m[\u001b[0m\u001b[1;34m'alert'\u001b[0m\u001b[1;33m]\u001b[0m\u001b[1;33m.\u001b[0m\u001b[0mget\u001b[0m\u001b[1;33m(\u001b[0m\u001b[1;34m'text'\u001b[0m\u001b[1;33m)\u001b[0m\u001b[1;33m\u001b[0m\u001b[0m\n\u001b[0;32m    241\u001b[0m             \u001b[1;32mraise\u001b[0m \u001b[0mexception_class\u001b[0m\u001b[1;33m(\u001b[0m\u001b[0mmessage\u001b[0m\u001b[1;33m,\u001b[0m \u001b[0mscreen\u001b[0m\u001b[1;33m,\u001b[0m \u001b[0mstacktrace\u001b[0m\u001b[1;33m,\u001b[0m \u001b[0malert_text\u001b[0m\u001b[1;33m)\u001b[0m\u001b[1;33m\u001b[0m\u001b[0m\n\u001b[1;32m--> 242\u001b[1;33m         \u001b[1;32mraise\u001b[0m \u001b[0mexception_class\u001b[0m\u001b[1;33m(\u001b[0m\u001b[0mmessage\u001b[0m\u001b[1;33m,\u001b[0m \u001b[0mscreen\u001b[0m\u001b[1;33m,\u001b[0m \u001b[0mstacktrace\u001b[0m\u001b[1;33m)\u001b[0m\u001b[1;33m\u001b[0m\u001b[0m\n\u001b[0m\u001b[0;32m    243\u001b[0m \u001b[1;33m\u001b[0m\u001b[0m\n\u001b[0;32m    244\u001b[0m     \u001b[1;32mdef\u001b[0m \u001b[0m_value_or_default\u001b[0m\u001b[1;33m(\u001b[0m\u001b[0mself\u001b[0m\u001b[1;33m,\u001b[0m \u001b[0mobj\u001b[0m\u001b[1;33m,\u001b[0m \u001b[0mkey\u001b[0m\u001b[1;33m,\u001b[0m \u001b[0mdefault\u001b[0m\u001b[1;33m)\u001b[0m\u001b[1;33m:\u001b[0m\u001b[1;33m\u001b[0m\u001b[0m\n",
      "\u001b[1;31mWebDriverException\u001b[0m: Message: chrome not reachable\n  (Session info: chrome=67.0.3396.99)\n  (Driver info: chromedriver=2.40.565498 (ea082db3280dd6843ebfb08a625e3eb905c4f5ab),platform=Windows NT 10.0.17134 x86_64)\n"
     ]
    }
   ],
   "source": [
    "soup = BeautifulSoup(driver.page_source ,\"html.parser\")\n",
    "# a = soup.find(class_=\"col_name fs0\")\n",
    "divTag = soup.find_all(\"div\", {\"class\": \"col_name fs0\"})\n",
    "\n",
    "for tag in divTag:\n",
    "    tdTags = tag.find_all(\"a\")\n",
    "    for tag in tdTags:\n",
    "        print (tag.text)\n",
    "        a = tag.text\n",
    "        here = driver.find_element_by_link_text(a).click()\n",
    "        sleep(5)\n",
    "        \n",
    "        soup = BeautifulSoup(driver.page_source ,\"html.parser\")  #use soup to parse the page\n",
    "\n",
    "        humidity = soup.find(class_=\"present_rh_value\").string  #find humidity and extract the string(text)part from the <div></div>\n",
    "        each_row = soup.find_all(class_=\"city_forecast_day_object\") #collect all the table rows in a list\n",
    "\n",
    "        i = 0\n",
    "        weatherTable2 = [humidity]\n",
    "\n",
    "        while i <len(each_row):\n",
    "\n",
    "            stringComplex = each_row[i].find(class_=\"city_fc_date fs0\")\n",
    "            text1 = ''\n",
    "            for j in stringComplex.strings:        \n",
    "                text1 += j.string\n",
    "\n",
    "            min = each_row[i].find(class_=\"min_temp_box fs0\").string #?不曉得為什麼不用.soup.find..\n",
    "            if min == None:\n",
    "                min = 0\n",
    "            max = each_row[i].find(class_=\"max_temp_icon fs0\").string\n",
    "\n",
    "            weatherTable = dict(\n",
    "            date=text1,\n",
    "            min=min,\n",
    "            max=max\n",
    "            )\n",
    "            i += 1\n",
    "            weatherTable2.append(weatherTable) \n",
    "        print (weatherTable2)\n",
    "               \n",
    "        driver.back()\n",
    "        sleep(5)"
   ]
  }
 ],
 "metadata": {
  "kernelspec": {
   "display_name": "Python 3",
   "language": "python",
   "name": "python3"
  },
  "language_info": {
   "codemirror_mode": {
    "name": "ipython",
    "version": 3
   },
   "file_extension": ".py",
   "mimetype": "text/x-python",
   "name": "python",
   "nbconvert_exporter": "python",
   "pygments_lexer": "ipython3",
   "version": "3.6.4"
  },
  "toc": {
   "base_numbering": 1,
   "nav_menu": {},
   "number_sections": true,
   "sideBar": true,
   "skip_h1_title": false,
   "title_cell": "Table of Contents",
   "title_sidebar": "Contents",
   "toc_cell": false,
   "toc_position": {},
   "toc_section_display": true,
   "toc_window_display": false
  }
 },
 "nbformat": 4,
 "nbformat_minor": 2
}
