{
 "cells": [
  {
   "cell_type": "code",
   "execution_count": 96,
   "metadata": {
    "collapsed": true
   },
   "outputs": [],
   "source": [
    "from selenium import webdriver\n",
    "driver = webdriver.Chrome()\n",
    "base_url = 'https://www.ptt.cc/bbs/MakeUp/index.html'\n",
    "driver.get(base_url)"
   ]
  },
  {
   "cell_type": "code",
   "execution_count": 101,
   "metadata": {
    "collapsed": true
   },
   "outputs": [],
   "source": [
    "ps = driver.page_source.strip()\n",
    "from lxml import etree\n",
    "import urllib\n",
    "from bs4 import BeautifulSoup\n",
    "soup = BeautifulSoup(ps,'lxml')"
   ]
  },
  {
   "cell_type": "code",
   "execution_count": 102,
   "metadata": {
    "scrolled": true
   },
   "outputs": [
    {
     "name": "stdout",
     "output_type": "stream",
     "text": [
      "31 [心得] 淚～碎掉的KA顏色回不去了 attack0127  5/27 https://www.ptt.cc/bbs/MakeUp/index.html\n",
      "53 [心得] colourpop新款16色眼影盤perception刷色分享 lisayeh1990  5/27 https://www.ptt.cc/bbs/MakeUp/index.html\n",
      "15 [情報] PAUL & JOE 快閃店 jvcn1479856  5/27 https://www.ptt.cc/bbs/MakeUp/index.html\n",
      "10 [心得] 植村秀YAZ粉霧保濕唇膏 cj2468  5/27 https://www.ptt.cc/bbs/MakeUp/index.html\n",
      "34 [心得] 微好雷的INTEGRATE粉底凍 yukki0623  5/27 https://www.ptt.cc/bbs/MakeUp/index.html\n",
      "51 [選擇] 偏油肌專櫃粉餅選擇 carolgreen  5/27 https://www.ptt.cc/bbs/MakeUp/index.html\n",
      "23 [問題] mistermorden 唇釉 509 類似色 ohiyosuzuka  5/27 https://www.ptt.cc/bbs/MakeUp/index.html\n",
      "71 [問題] 超油內眼皮眼線產品求推薦 內有選手 ayachan  5/27 https://www.ptt.cc/bbs/MakeUp/index.html\n",
      "12 [心得] 超推bbia超聚焦持久防水眼線液 applst  5/27 https://www.ptt.cc/bbs/MakeUp/index.html\n",
      "15 [心得]激推 catrice遮瑕液跟打亮棒 lvsd  5/27 https://www.ptt.cc/bbs/MakeUp/index.html\n",
      "3 [心得] SUQQU紅雅 自然深邃冷棕色-煉瓦染替代品 chloe1909  5/27 https://www.ptt.cc/bbs/MakeUp/index.html\n",
      "12 [閒聊] opera色調中比較偏冷色調的 grace20943  5/27 https://www.ptt.cc/bbs/MakeUp/index.html\n",
      "4 [心得] lilybyred 唇釉兩隻分享 pandadragon  5/27 https://www.ptt.cc/bbs/MakeUp/index.html\n",
      "2 [問題] Pony Effect 水透光妝前防護乳 cocono  5/28 https://www.ptt.cc/bbs/MakeUp/index.html\n",
      "15 [心得] 無意義全彩妝手臂試色 lisa0109  5/28 https://www.ptt.cc/bbs/MakeUp/index.html\n",
      "35 [問題] 求推薦輕透遮瑕的底妝 ivantang  5/28 https://www.ptt.cc/bbs/MakeUp/index.html\n",
      "7 本文已刪除 -  5/28 此文章的url不存在\n",
      "10 [心得] 不怕眼淚的Integrate睫毛膏 ahhhwei  5/28 https://www.ptt.cc/bbs/MakeUp/index.html\n",
      "7 [心得]試色CANMAKE腮紅霜 seigo1002  5/28 https://www.ptt.cc/bbs/MakeUp/index.html\n",
      "17 [心得] 夏天單擦很適合的碧兒泉水CC隔離乳 akali960419  5/28 https://www.ptt.cc/bbs/MakeUp/index.html\n"
     ]
    }
   ],
   "source": [
    "from urllib.parse import urljoin\n",
    "def parse_page(soup):\n",
    "    big_tag = soup.find_all(class_ = \"r-ent\")\n",
    "#     print(big_tag[0])\n",
    "    pre =  soup.find_all(class_ = \"btn wide\")\n",
    "    pre_url=pre[1]['href']\n",
    "    complete_pre_url = urljoin(base_url, pre_url)\n",
    "    results=[]\n",
    "    i = 0\n",
    "    while i < len(big_tag):\n",
    "        num = big_tag[i].find(class_=\"nrec\").next_element.string\n",
    "        try:\n",
    "            title = big_tag[i].find('a').string\n",
    "            textUrl = big_tag[i].find('a','herf')\n",
    "            complete_textUrl = urljoin(base_url, textUrl)\n",
    "        except AttributeError:\n",
    "            title = \"本文已刪除\"\n",
    "            complete_textUrl = '此文章的url不存在'\n",
    "        author = big_tag[i].find(class_='author').string\n",
    "        date=big_tag[i].find(class_='date').string\n",
    "        \n",
    "        i=i+1\n",
    "        r = dict(\n",
    "        num=num,\n",
    "        title=title,\n",
    "        author=author,\n",
    "        date=date)\n",
    "        results += [r]\n",
    "        print(num,title,author,date,complete_textUrl)\n",
    "    return results,complete_pre_url,complete_textUrl,title\n",
    "rs,url,complete_textUrl,title= parse_page(soup)\n",
    "\n"
   ]
  },
  {
   "cell_type": "code",
   "execution_count": 99,
   "metadata": {
    "collapsed": true
   },
   "outputs": [],
   "source": [
    "from selenium.webdriver.common.by import By\n",
    "last_page = driver.find_elements_by_css_selector('a.btn')[3]\n",
    "last_page.click()\n",
    "driver.get(url)\n",
    "\n",
    "# text_page = driver.find_element(By.LINK_TEXT, '[問題] 最近彩陽炎常常自己消失')\n",
    "# text_page = driver.find_elements_by_css_selector('a[href]')\n",
    "# text_page=driver.find_element_by_link_text(\"[問題] 最近彩陽炎常常自己消失\")\n",
    "# print(text_page)\n",
    "# text_page.click()\n",
    "\n",
    "\n",
    "\n",
    "# driver.get(complete_textUrl)"
   ]
  },
  {
   "cell_type": "code",
   "execution_count": 103,
   "metadata": {},
   "outputs": [
    {
     "data": {
      "text/plain": [
       "[]"
      ]
     },
     "execution_count": 103,
     "metadata": {},
     "output_type": "execute_result"
    }
   ],
   "source": [
    "text_page=driver.find_element_by_link_text(title)\n",
    "text_page.click()\n",
    "driver.get(complete_textUrl)\n",
    "in_in_text = driver.page_source.strip()\n",
    "from lxml import etree\n",
    "import urllib\n",
    "from bs4 import BeautifulSoup\n",
    "soup = BeautifulSoup(in_in_text,'lxml')\n",
    "comment_push = soup.select('.push')\n",
    "comment_push"
   ]
  },
  {
   "cell_type": "code",
   "execution_count": 118,
   "metadata": {
    "collapsed": true
   },
   "outputs": [],
   "source": [
    "import sqlite3\n",
    "conn = sqlite3.connect('example.db')  //建立一個連接到example.db的對象"
   ]
  },
  {
   "cell_type": "code",
   "execution_count": 122,
   "metadata": {
    "collapsed": true
   },
   "outputs": [],
   "source": [
    "import pandas as pd\n",
    "df = pd.DataFrame(rs).to_sql('敖', conn,if_exists='replace')\n",
    "#pandas把rs轉換成table然後要丟給資料庫()\n",
    "#參數(table的名字，把結果丟給conn`,然後他連結到example.db，所以資料就會進去，這個是我自己加的，如果同名字的table存在，我就取代)\n",
    "df"
   ]
  },
  {
   "cell_type": "code",
   "execution_count": null,
   "metadata": {
    "collapsed": true
   },
   "outputs": [],
   "source": []
  }
 ],
 "metadata": {
  "kernelspec": {
   "display_name": "Python 3",
   "language": "python",
   "name": "python3"
  },
  "language_info": {
   "codemirror_mode": {
    "name": "ipython",
    "version": 3
   },
   "file_extension": ".py",
   "mimetype": "text/x-python",
   "name": "python",
   "nbconvert_exporter": "python",
   "pygments_lexer": "ipython3",
   "version": "3.6.4"
  }
 },
 "nbformat": 4,
 "nbformat_minor": 2
}
