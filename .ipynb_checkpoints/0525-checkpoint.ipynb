{
 "cells": [
  {
   "cell_type": "code",
   "execution_count": null,
   "metadata": {},
   "outputs": [],
   "source": [
    "import requests\n",
    "from requests import Session\n",
    "sess = Session()"
   ]
  },
  {
   "cell_type": "code",
   "execution_count": null,
   "metadata": {},
   "outputs": [],
   "source": [
    "resp = sess.get(base_url)\n",
    "resp"
   ]
  },
  {
   "cell_type": "code",
   "execution_count": null,
   "metadata": {
    "scrolled": true
   },
   "outputs": [],
   "source": [
    "page_source = resp.text\n",
    "# type(resp)\n",
    "# help(resp)\n",
    "# resp.headers"
   ]
  },
  {
   "cell_type": "code",
   "execution_count": null,
   "metadata": {},
   "outputs": [],
   "source": [
    "%load_ext autotime\n",
    "from selenium import webdriver\n",
    " \n",
    "driver = webdriver.Chrome()\n",
    "base_url = 'https://www.ptt.cc/bbs/MakeUp/index.html'\n",
    "driver.get(base_url)\n"
   ]
  },
  {
   "cell_type": "code",
   "execution_count": null,
   "metadata": {},
   "outputs": [],
   "source": []
  },
  {
   "cell_type": "code",
   "execution_count": null,
   "metadata": {},
   "outputs": [],
   "source": [
    "ps = driver.page_source\n",
    "from pyquery import PyQuery as pq\n",
    "from lxml import etree\n",
    "import urllib\n",
    "page_source = driver.execute_script(\"return document.documentElement.outerHTML\")\n",
    "page_root = pq(page_source)\n",
    "# d = pq(etree.fromstring(\"<html></html>\"))\n",
    "# d = pq(url='http://google.com/')\n",
    "# d = pq(url='http://google.com/', opener=lambda url, **kw: urllib.urlopen(url).read())\n",
    "# >>> d = pq(filename=path_to_html_file)\n"
   ]
  },
  {
   "cell_type": "code",
   "execution_count": null,
   "metadata": {
    "scrolled": true
   },
   "outputs": [],
   "source": [
    "from pyquery import PyQuery as pq\n",
    "from lxml import etree\n",
    "import urllib\n",
    "from urllib.parse import urljoin\n",
    "\n",
    "def parse_page(page_source):\n",
    "    page_root = pq(page_source)\n",
    "    last_page = pq(page_root('a.btn')[3])\n",
    "    assert '上頁' in last_page.text()\n",
    "    last_page_url = last_page.attr('href')\n",
    "    last_page_url = urljoin(base_url, last_page_url)\n",
    "\n",
    "    results = []\n",
    "    for d in page_root('div.title'):\n",
    "        title = pq(d)('a').text()\n",
    "        try:\n",
    "            nrec = int(pq(d).prev().text())\n",
    "        except ValueError:\n",
    "            nrec = None\n",
    "        m = pq(d).next() # meta\n",
    "        # print(m('.author').text())\n",
    "        author = m('.author').text()\n",
    "        date = m('.date').text().strip()\n",
    "        # print(nrec, title, author, date)\n",
    "        r = dict(\n",
    "            nrec=nrec,\n",
    "            title=title,\n",
    "            author=author,\n",
    "            date=date)\n",
    "        results += [r]\n",
    "    return last_page_url, results\n",
    "\n",
    "url, rs = parse_page(page_source)\n",
    "url, rs"
   ]
  },
  {
   "cell_type": "code",
   "execution_count": null,
   "metadata": {
    "scrolled": true
   },
   "outputs": [],
   "source": [
    "import time\n",
    "for i in range(3):\n",
    "    last_page = driver.find_elements_by_css_selector('a.btn')[3]\n",
    "    print(last_page)\n",
    "    print(last_page.text)\n",
    "    # help(last_page)\n",
    "    t1 = time.time()\n",
    "    last_page.click()\n",
    "    t2 = time.time()\n",
    "    print(t1, t2, t2-t1)\n",
    "    # print(url)\n",
    "    # driver.get(url)"
   ]
  },
  {
   "cell_type": "code",
   "execution_count": null,
   "metadata": {},
   "outputs": [],
   "source": [
    "import sqlite3\n",
    "conn = sqlite3.connect('example.db')"
   ]
  },
  {
   "cell_type": "code",
   "execution_count": null,
   "metadata": {},
   "outputs": [],
   "source": [
    "import pandas as pd\n",
    "pd.DataFrame(rs).to_sql('sample', conn)"
   ]
  },
  {
   "cell_type": "code",
   "execution_count": 5,
   "metadata": {},
   "outputs": [
    {
     "ename": "PermissionError",
     "evalue": "[Errno 13] Permission denied: 'd:\\\\work\\\\code\\\\atlas\\\\tests\\\\myconn.py'",
     "output_type": "error",
     "traceback": [
      "\u001b[1;31m---------------------------------------------------------------------------\u001b[0m",
      "\u001b[1;31mPermissionError\u001b[0m                           Traceback (most recent call last)",
      "\u001b[1;32m<ipython-input-5-cd8e73843182>\u001b[0m in \u001b[0;36m<module>\u001b[1;34m()\u001b[0m\n\u001b[0;32m      1\u001b[0m \u001b[1;32mfrom\u001b[0m \u001b[0m__future__\u001b[0m \u001b[1;32mimport\u001b[0m \u001b[0mabsolute_import\u001b[0m\u001b[1;33m\u001b[0m\u001b[0m\n\u001b[0;32m      2\u001b[0m \u001b[1;31m#  myconn import conn\u001b[0m\u001b[1;33m\u001b[0m\u001b[1;33m\u001b[0m\u001b[0m\n\u001b[1;32m----> 3\u001b[1;33m \u001b[1;32mimport\u001b[0m \u001b[0mmyconn\u001b[0m\u001b[1;33m\u001b[0m\u001b[0m\n\u001b[0m",
      "\u001b[1;32mD:\\Anaconda3\\lib\\importlib\\_bootstrap.py\u001b[0m in \u001b[0;36m_find_and_load\u001b[1;34m(name, import_)\u001b[0m\n",
      "\u001b[1;32mD:\\Anaconda3\\lib\\importlib\\_bootstrap.py\u001b[0m in \u001b[0;36m_find_and_load_unlocked\u001b[1;34m(name, import_)\u001b[0m\n",
      "\u001b[1;32mD:\\Anaconda3\\lib\\importlib\\_bootstrap.py\u001b[0m in \u001b[0;36m_load_unlocked\u001b[1;34m(spec)\u001b[0m\n",
      "\u001b[1;32mD:\\Anaconda3\\lib\\importlib\\_bootstrap_external.py\u001b[0m in \u001b[0;36mexec_module\u001b[1;34m(self, module)\u001b[0m\n",
      "\u001b[1;32mD:\\Anaconda3\\lib\\importlib\\_bootstrap_external.py\u001b[0m in \u001b[0;36mget_code\u001b[1;34m(self, fullname)\u001b[0m\n",
      "\u001b[1;32mD:\\Anaconda3\\lib\\importlib\\_bootstrap_external.py\u001b[0m in \u001b[0;36mget_data\u001b[1;34m(self, path)\u001b[0m\n",
      "\u001b[1;31mPermissionError\u001b[0m: [Errno 13] Permission denied: 'd:\\\\work\\\\code\\\\atlas\\\\tests\\\\myconn.py'"
     ]
    }
   ],
   "source": [
    "from __future__ import absolute_import\n",
    "#  myconn import conn\n",
    "import myconn"
   ]
  }
 ],
 "metadata": {
  "kernelspec": {
   "display_name": "Python 3",
   "language": "python",
   "name": "python3"
  },
  "language_info": {
   "codemirror_mode": {
    "name": "ipython",
    "version": 3
   },
   "file_extension": ".py",
   "mimetype": "text/x-python",
   "name": "python",
   "nbconvert_exporter": "python",
   "pygments_lexer": "ipython3",
   "version": "3.6.4"
  }
 },
 "nbformat": 4,
 "nbformat_minor": 2
}
