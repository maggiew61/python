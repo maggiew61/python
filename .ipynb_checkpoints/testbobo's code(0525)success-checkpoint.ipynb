{
 "cells": [
  {
   "cell_type": "code",
   "execution_count": 1,
   "metadata": {},
   "outputs": [],
   "source": [
    "import requests\n",
    "from requests import Session\n",
    "sess = Session()"
   ]
  },
  {
   "cell_type": "code",
   "execution_count": 2,
   "metadata": {},
   "outputs": [
    {
     "data": {
      "text/plain": [
       "<Response [200]>"
      ]
     },
     "execution_count": 2,
     "metadata": {},
     "output_type": "execute_result"
    }
   ],
   "source": [
    "base_url = 'https://www.ptt.cc/bbs/MakeUp/index.html'\n",
    "resp = sess.get(base_url)\n",
    "resp"
   ]
  },
  {
   "cell_type": "code",
   "execution_count": 3,
   "metadata": {},
   "outputs": [],
   "source": [
    "page_source = resp.text\n",
    "# type(resp)\n",
    "# help(resp)\n",
    "# resp.headers\n"
   ]
  },
  {
   "cell_type": "code",
   "execution_count": 11,
   "metadata": {},
   "outputs": [
    {
     "data": {
      "text/plain": [
       "('https://www.ptt.cc/bbs/MakeUp/index3011.html',\n",
       " [{'author': 'bubbles0320',\n",
       "   'date': '6/05',\n",
       "   'nrec': 17,\n",
       "   'title': '[妝容] 集磚紅於一身的楓葉女子'},\n",
       "  {'author': 'overloved16',\n",
       "   'date': '6/06',\n",
       "   'nrec': 15,\n",
       "   'title': '[心得] Maybelline調色盤唇釉，兒童不宜'},\n",
       "  {'author': '-', 'date': '6/06', 'nrec': None, 'title': ''},\n",
       "  {'author': 'fuweick',\n",
       "   'date': '6/06',\n",
       "   'nrec': 38,\n",
       "   'title': '[問題] 粉持久越用越乾、變難用？'},\n",
       "  {'author': 'gatineau',\n",
       "   'date': '6/06',\n",
       "   'nrec': 7,\n",
       "   'title': 'Re: [心得] 超推bbia超聚焦持久防水眼線液'},\n",
       "  {'author': 'xiepo',\n",
       "   'date': '6/06',\n",
       "   'nrec': 23,\n",
       "   'title': '[閒聊] 找到讓露華濃粉底貼妝的輔助產品'},\n",
       "  {'author': 'sylviachang',\n",
       "   'date': '6/06',\n",
       "   'nrec': 6,\n",
       "   'title': '[心得] 紅唇初體驗 植村秀無色限粉霧保濕唇膏'},\n",
       "  {'author': 'lalakate',\n",
       "   'date': '6/06',\n",
       "   'nrec': 4,\n",
       "   'title': '[心得] 安室演唱會限定組合visee眼線液筆+唇釉'},\n",
       "  {'author': 'gbost', 'date': '6/06', 'nrec': 3, 'title': '[問題] 粉持久色號問題'},\n",
       "  {'author': 'leon8712',\n",
       "   'date': '5/15',\n",
       "   'nrec': None,\n",
       "   'title': '[公告] 美妝板規 ★ 問與答 2018-5-15重新發表'},\n",
       "  {'author': 'leon8712',\n",
       "   'date': '6/01',\n",
       "   'nrec': None,\n",
       "   'title': '[閒聊] 2018/6月 置底打屁閒聊區'},\n",
       "  {'author': 'leon8712',\n",
       "   'date': '6/01',\n",
       "   'nrec': 36,\n",
       "   'title': '[情報] 2018/6月 熱門商品推文區'},\n",
       "  {'author': 'leon8712',\n",
       "   'date': '6/01',\n",
       "   'nrec': 41,\n",
       "   'title': '[閒聊] 有關板規修訂歡迎表示意見，文長敬請耐心閱讀'}])"
      ]
     },
     "execution_count": 11,
     "metadata": {},
     "output_type": "execute_result"
    }
   ],
   "source": [
    "from pyquery import PyQuery as pq\n",
    "from lxml import etree\n",
    "import urllib\n",
    "from urllib.parse import urljoin\n",
    "\n",
    "def parse_page(page_source):\n",
    "    page_root = pq(page_source)\n",
    "    last_page = pq(page_root('a.btn')[3])\n",
    "    assert '上頁' in last_page.text()\n",
    "    last_page_url = last_page.attr('href')\n",
    "    last_page_url = urljoin(base_url, last_page_url)\n",
    "\n",
    "    results = []\n",
    "    for d in page_root('div.title'):\n",
    "        title = pq(d)('a').text()\n",
    "        try:\n",
    "            nrec = int(pq(d).prev().text())\n",
    "        except ValueError:\n",
    "            nrec = None\n",
    "        m = pq(d).next() # meta\n",
    "        # print(m('.author').text())\n",
    "        author = m('.author').text()\n",
    "        date = m('.date').text().strip()\n",
    "        # print(nrec, title, author, date)\n",
    "        r = dict(\n",
    "            nrec=nrec,\n",
    "            title=title,\n",
    "            author=author,\n",
    "            date=date)\n",
    "        results += [r]\n",
    "    return last_page_url, results\n",
    "\n",
    "url, rs = parse_page(page_source)\n",
    "url, rs"
   ]
  },
  {
   "cell_type": "code",
   "execution_count": 29,
   "metadata": {},
   "outputs": [
    {
     "ename": "NameError",
     "evalue": "name 'driver' is not defined",
     "output_type": "error",
     "traceback": [
      "\u001b[1;31m---------------------------------------------------------------------------\u001b[0m",
      "\u001b[1;31mNameError\u001b[0m                                 Traceback (most recent call last)",
      "\u001b[1;32m<ipython-input-29-16f8e14771f3>\u001b[0m in \u001b[0;36m<module>\u001b[1;34m()\u001b[0m\n\u001b[0;32m      1\u001b[0m \u001b[1;32mimport\u001b[0m \u001b[0mtime\u001b[0m\u001b[1;33m\u001b[0m\u001b[0m\n\u001b[0;32m      2\u001b[0m \u001b[1;32mfor\u001b[0m \u001b[0mi\u001b[0m \u001b[1;32min\u001b[0m \u001b[0mrange\u001b[0m\u001b[1;33m(\u001b[0m\u001b[1;36m3\u001b[0m\u001b[1;33m)\u001b[0m\u001b[1;33m:\u001b[0m\u001b[1;33m\u001b[0m\u001b[0m\n\u001b[1;32m----> 3\u001b[1;33m     \u001b[0mlast_page\u001b[0m \u001b[1;33m=\u001b[0m \u001b[0mdriver\u001b[0m\u001b[1;33m.\u001b[0m\u001b[0mfind_elements_by_css_selector\u001b[0m\u001b[1;33m(\u001b[0m\u001b[1;34m'a.btn'\u001b[0m\u001b[1;33m)\u001b[0m\u001b[1;33m[\u001b[0m\u001b[1;36m3\u001b[0m\u001b[1;33m]\u001b[0m\u001b[1;33m\u001b[0m\u001b[0m\n\u001b[0m\u001b[0;32m      4\u001b[0m     \u001b[0mprint\u001b[0m\u001b[1;33m(\u001b[0m\u001b[0mlast_page\u001b[0m\u001b[1;33m)\u001b[0m\u001b[1;33m\u001b[0m\u001b[0m\n\u001b[0;32m      5\u001b[0m     \u001b[0mprint\u001b[0m\u001b[1;33m(\u001b[0m\u001b[0mlast_page\u001b[0m\u001b[1;33m.\u001b[0m\u001b[0mtext\u001b[0m\u001b[1;33m)\u001b[0m\u001b[1;33m\u001b[0m\u001b[0m\n",
      "\u001b[1;31mNameError\u001b[0m: name 'driver' is not defined"
     ]
    }
   ],
   "source": [
    "import time\n",
    "for i in range(3):\n",
    "    last_page = driver.find_elements_by_css_selector('a.btn')[3]\n",
    "    print(last_page)\n",
    "    print(last_page.text)\n",
    "    # help(last_page)\n",
    "    t1 = time.time()\n",
    "    last_page.click()\n",
    "    t2 = time.time()\n",
    "    print(t1, t2, t2-t1)\n",
    "    # print(url)\n",
    "    # driver.get(url)"
   ]
  }
 ],
 "metadata": {
  "kernelspec": {
   "display_name": "Python 3",
   "language": "python",
   "name": "python3"
  },
  "language_info": {
   "codemirror_mode": {
    "name": "ipython",
    "version": 3
   },
   "file_extension": ".py",
   "mimetype": "text/x-python",
   "name": "python",
   "nbconvert_exporter": "python",
   "pygments_lexer": "ipython3",
   "version": "3.6.4"
  }
 },
 "nbformat": 4,
 "nbformat_minor": 2
}
