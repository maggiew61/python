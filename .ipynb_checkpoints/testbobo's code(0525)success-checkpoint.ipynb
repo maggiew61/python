{
 "cells": [
  {
   "cell_type": "code",
   "execution_count": 33,
   "metadata": {},
   "outputs": [],
   "source": [
    "import requests\n",
    "from requests import Session\n",
    "sess = Session()"
   ]
  },
  {
   "cell_type": "code",
   "execution_count": 34,
   "metadata": {},
   "outputs": [
    {
     "data": {
      "text/plain": [
       "<Response [200]>"
      ]
     },
     "execution_count": 34,
     "metadata": {},
     "output_type": "execute_result"
    }
   ],
   "source": [
    "base_url = 'https://www.ptt.cc/bbs/MakeUp/index.html'\n",
    "resp = sess.get(base_url)\n",
    "resp"
   ]
  },
  {
   "cell_type": "code",
   "execution_count": 35,
   "metadata": {},
   "outputs": [],
   "source": [
    "page_source = resp.text\n",
    "# type(resp)\n",
    "# help(resp)\n",
    "# resp.headers\n"
   ]
  },
  {
   "cell_type": "code",
   "execution_count": 36,
   "metadata": {},
   "outputs": [
    {
     "data": {
      "text/plain": [
       "('https://www.ptt.cc/bbs/MakeUp/index3011.html',\n",
       " [{'author': 'bubbles0320',\n",
       "   'date': '6/05',\n",
       "   'nrec': 18,\n",
       "   'title': '[妝容] 集磚紅於一身的楓葉女子'},\n",
       "  {'author': 'overloved16',\n",
       "   'date': '6/06',\n",
       "   'nrec': 15,\n",
       "   'title': '[心得] Maybelline調色盤唇釉，兒童不宜'},\n",
       "  {'author': '-', 'date': '6/06', 'nrec': None, 'title': ''},\n",
       "  {'author': 'fuweick',\n",
       "   'date': '6/06',\n",
       "   'nrec': 41,\n",
       "   'title': '[問題] 粉持久越用越乾、變難用？'},\n",
       "  {'author': 'gatineau',\n",
       "   'date': '6/06',\n",
       "   'nrec': 8,\n",
       "   'title': 'Re: [心得] 超推bbia超聚焦持久防水眼線液'},\n",
       "  {'author': 'xiepo',\n",
       "   'date': '6/06',\n",
       "   'nrec': 24,\n",
       "   'title': '[閒聊] 找到讓露華濃粉底貼妝的輔助產品'},\n",
       "  {'author': 'sylviachang',\n",
       "   'date': '6/06',\n",
       "   'nrec': 9,\n",
       "   'title': '[心得] 紅唇初體驗 植村秀無色限粉霧保濕唇膏'},\n",
       "  {'author': 'lalakate',\n",
       "   'date': '6/06',\n",
       "   'nrec': 9,\n",
       "   'title': '[心得] 安室演唱會限定組合visee眼線液筆+唇釉'},\n",
       "  {'author': 'gbost', 'date': '6/06', 'nrec': 4, 'title': '[問題] 粉持久色號問題'},\n",
       "  {'author': 'leon8712',\n",
       "   'date': '5/15',\n",
       "   'nrec': None,\n",
       "   'title': '[公告] 美妝板規 ★ 問與答 2018-5-15重新發表'},\n",
       "  {'author': 'leon8712',\n",
       "   'date': '6/01',\n",
       "   'nrec': None,\n",
       "   'title': '[閒聊] 2018/6月 置底打屁閒聊區'},\n",
       "  {'author': 'leon8712',\n",
       "   'date': '6/01',\n",
       "   'nrec': 36,\n",
       "   'title': '[情報] 2018/6月 熱門商品推文區'},\n",
       "  {'author': 'leon8712',\n",
       "   'date': '6/01',\n",
       "   'nrec': 41,\n",
       "   'title': '[閒聊] 有關板規修訂歡迎表示意見，文長敬請耐心閱讀'}])"
      ]
     },
     "execution_count": 36,
     "metadata": {},
     "output_type": "execute_result"
    }
   ],
   "source": [
    "from pyquery import PyQuery as pq\n",
    "from lxml import etree\n",
    "import urllib\n",
    "from urllib.parse import urljoin\n",
    "\n",
    "def parse_page(page_source):\n",
    "    page_root = pq(page_source)\n",
    "    last_page = pq(page_root('a.btn')[3])\n",
    "    assert '上頁' in last_page.text()\n",
    "    last_page_url = last_page.attr('href')\n",
    "    last_page_url = urljoin(base_url, last_page_url)\n",
    "\n",
    "    results = []\n",
    "    for d in page_root('div.title'):\n",
    "        title = pq(d)('a').text()\n",
    "        try:\n",
    "            nrec = int(pq(d).prev().text())\n",
    "        except ValueError:\n",
    "            nrec = None\n",
    "        m = pq(d).next() # meta\n",
    "        # print(m('.author').text())\n",
    "        author = m('.author').text()\n",
    "        date = m('.date').text().strip()\n",
    "        # print(nrec, title, author, date)\n",
    "        r = dict(\n",
    "            nrec=nrec,\n",
    "            title=title,\n",
    "            author=author,\n",
    "            date=date)\n",
    "        results += [r]\n",
    "    return last_page_url, results\n",
    "\n",
    "url, rs = parse_page(page_source)\n",
    "url, rs"
   ]
  },
  {
   "cell_type": "code",
   "execution_count": 43,
   "metadata": {},
   "outputs": [
    {
     "data": {
      "text/plain": [
       "'‹ 上頁'"
      ]
     },
     "execution_count": 43,
     "metadata": {},
     "output_type": "execute_result"
    }
   ],
   "source": [
    "# import time\n",
    "# # for i in range(3):\n",
    "# #     text = doc(\"h2\").text()\n",
    "# #     last_page = resp.find_elements_by_css_selector('a.btn')[3]\n",
    "# last_page =pq(page_source('a.btn')[3]).text()\n",
    "# last_page\n",
    "# # print(last_page)\n",
    "# # print(last_page.text)\n",
    "# # help(last_page)\n",
    "# t1 = time.time()\n",
    "# #     last_page.click()\n",
    "# t2 = time.time()\n",
    "# print(t1, t2, t2-t1)\n",
    "#     # print(url)\n",
    "#     # driver.get(url)\n",
    "# a = pq(page_source)\n",
    "# b = pq(a('a.btn')[3]).text()\n",
    "# b"
   ]
  },
  {
   "cell_type": "code",
   "execution_count": 51,
   "metadata": {},
   "outputs": [
    {
     "name": "stdout",
     "output_type": "stream",
     "text": [
      "<a class=\"btn wide\" href=\"/bbs/MakeUp/index3011.html\">‹ 上頁</a>\n",
      "\t\t\t\t\n",
      "<bound method PyQuery.text of [<a.btn.wide>]>\n",
      "1528279441.6931446 1528279441.6931446 0.0\n",
      "<a class=\"btn wide\" href=\"/bbs/MakeUp/index3011.html\">‹ 上頁</a>\n",
      "\t\t\t\t\n",
      "<bound method PyQuery.text of [<a.btn.wide>]>\n",
      "1528279441.6951234 1528279441.6951234 0.0\n",
      "<a class=\"btn wide\" href=\"/bbs/MakeUp/index3011.html\">‹ 上頁</a>\n",
      "\t\t\t\t\n",
      "<bound method PyQuery.text of [<a.btn.wide>]>\n",
      "1528279441.6971195 1528279441.6971195 0.0\n"
     ]
    }
   ],
   "source": [
    "import time\n",
    "for i in range(3):\n",
    "    #     不使用原因: find_elements_by_css_selector是selenum方法 必須用pyquery自己的css selector去找值\n",
    "#     last_page = driver.find_elements_by_css_selector('a.btn')[3]  \n",
    "\n",
    "    a = pq(page_source)  #要先讓她變成一個pq物件 才能對其下指令\n",
    "    last_page = pq(a('a.btn')[3]) \n",
    "    print(last_page)\n",
    "    print(last_page.text)\n",
    "    # help(last_page)\n",
    "    t1 = time.time()\n",
    "    t2 = time.time()\n",
    "    print(t1, t2, t2-t1)"
   ]
  },
  {
   "cell_type": "code",
   "execution_count": null,
   "metadata": {},
   "outputs": [],
   "source": []
  }
 ],
 "metadata": {
  "kernelspec": {
   "display_name": "Python 3",
   "language": "python",
   "name": "python3"
  },
  "language_info": {
   "codemirror_mode": {
    "name": "ipython",
    "version": 3
   },
   "file_extension": ".py",
   "mimetype": "text/x-python",
   "name": "python",
   "nbconvert_exporter": "python",
   "pygments_lexer": "ipython3",
   "version": "3.6.4"
  }
 },
 "nbformat": 4,
 "nbformat_minor": 2
}
