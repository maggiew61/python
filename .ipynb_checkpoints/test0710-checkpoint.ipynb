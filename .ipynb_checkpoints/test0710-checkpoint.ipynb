{
 "cells": [
  {
   "cell_type": "code",
   "execution_count": 15,
   "metadata": {},
   "outputs": [],
   "source": [
    "from bs4 import BeautifulSoup   \n",
    "from selenium import webdriver\n",
    "from time import sleep\n",
    "option = webdriver.ChromeOptions()\n",
    "option.add_argument(\"--incognito\")\n",
    "\n",
    "# driver.get(\"https://www.ptt.cc/bbs/MakeUp/index.html\")\n",
    "# soup = BeautifulSoup(driver.page_source ,\"html.parser\") \n",
    "\n",
    "\n",
    "driver = webdriver.Chrome(\"D:/chromedriver_win32/chromedriver.exe\", chrome_options=option)\n",
    "driver.get('http://worldweather.wmo.int/tc/country.html?countryCode=1')\n"
   ]
  },
  {
   "cell_type": "code",
   "execution_count": 19,
   "metadata": {},
   "outputs": [
    {
     "data": {
      "text/plain": [
       "[None]"
      ]
     },
     "execution_count": 19,
     "metadata": {},
     "output_type": "execute_result"
    }
   ],
   "source": [
    "\n",
    "def index():\n",
    "    driver.find_element_by_xpath('''/html/body/div/div[7]/div[3]/div[1]/div[2]/a''').click()  #click on the element\n",
    "    soup = BeautifulSoup(driver.page_source ,\"html.parser\")  #use soup to parse the page\n",
    "\n",
    "    humidity = soup.find(class_=\"present_rh_value\").string  #find humidity and extract the string(text)part from the <div></div>\n",
    "    each_row = soup.find_all(class_=\"city_forecast_day_object\") #collect all the table rows in a list\n",
    "\n",
    "    i = 0\n",
    "    weatherTable2 = [humidity]\n",
    "\n",
    "    while i <len(each_row):\n",
    "\n",
    "        stringComplex = each_row[i].find(class_=\"city_fc_date fs0\")\n",
    "        text1 = ''\n",
    "        for j in stringComplex.strings:        \n",
    "            text1 += j.string\n",
    "\n",
    "        min = each_row[i].find(class_=\"min_temp_box fs0\").string #?不曉得為什麼不用.soup.find..\n",
    "        if min == None:\n",
    "            min = 0\n",
    "        max = each_row[i].find(class_=\"max_temp_icon fs0\").string\n",
    "\n",
    "        weatherTable = dict(\n",
    "        date=text1,\n",
    "        min=min,\n",
    "        max=max\n",
    "        )\n",
    "        i += 1\n",
    "        weatherTable2.append(weatherTable)    \n",
    "    return weatherTable2\n",
    "bb = index()\n",
    "bb\n"
   ]
  }
 ],
 "metadata": {
  "kernelspec": {
   "display_name": "Python 3",
   "language": "python",
   "name": "python3"
  },
  "language_info": {
   "codemirror_mode": {
    "name": "ipython",
    "version": 3
   },
   "file_extension": ".py",
   "mimetype": "text/x-python",
   "name": "python",
   "nbconvert_exporter": "python",
   "pygments_lexer": "ipython3",
   "version": "3.6.5"
  }
 },
 "nbformat": 4,
 "nbformat_minor": 2
}
