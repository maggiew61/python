{
 "cells": [
  {
   "cell_type": "code",
   "execution_count": 12,
   "metadata": {},
   "outputs": [],
   "source": [
    "from selenium import webdriver\n",
    "base_url = 'https://www.ptt.cc/bbs/MakeUp/index.html'\n",
    "\n",
    "\n",
    "option = webdriver.ChromeOptions()\n",
    "option.add_argument(\"--incognito\")\n",
    "\n",
    "driver = webdriver.Chrome(\"D:/chromedriver_win32/chromedriver.exe\", chrome_options=option)\n",
    "driver.get(base_url)"
   ]
  },
  {
   "cell_type": "code",
   "execution_count": 13,
   "metadata": {},
   "outputs": [],
   "source": [
    "ps = driver.page_source.strip()\n",
    "from lxml import etree\n",
    "import urllib\n",
    "from bs4 import BeautifulSoup\n",
    "soup = BeautifulSoup(ps,'lxml')"
   ]
  },
  {
   "cell_type": "code",
   "execution_count": 15,
   "metadata": {},
   "outputs": [
    {
     "name": "stdout",
     "output_type": "stream",
     "text": [
      "pre url is /bbs/MakeUp/index3030.html\n",
      "\n",
      " 本文已刪除 -  7/01 此文章的url不存在\n",
      "12 [選擇] 尋攜帶方便的粉調底妝 LSY31  7/01 https://www.ptt.cc/bbs/MakeUp/index.html\n",
      "3 本文已刪除 -  7/01 此文章的url不存在\n",
      "5 [問題] 底妝完上蜜粉變得斑駁? pinot  7/01 https://www.ptt.cc/bbs/MakeUp/index.html\n",
      "\n",
      " [公告] 美妝板規 ★ 問與答 2018-6-15重新發表 leon8712  5/15 https://www.ptt.cc/bbs/MakeUp/index.html\n",
      "爆 [閒聊] 2018/6月 置底打屁閒聊區 leon8712  6/01 https://www.ptt.cc/bbs/MakeUp/index.html\n",
      "爆 [情報] 2018/6月 熱門商品推文區 leon8712  6/01 https://www.ptt.cc/bbs/MakeUp/index.html\n",
      "50 [公告] 新板規發佈後之延伸說明及參考 leon8712  6/01 https://www.ptt.cc/bbs/MakeUp/index.html\n"
     ]
    }
   ],
   "source": [
    "from urllib.parse import urljoin\n",
    "def parse_page(soup):\n",
    "    big_tag = soup.find_all(class_ = \"r-ent\")  #or big_tag = soup.select(\".r-ent\")    #the whole div\n",
    "    pre =  soup.find_all(class_ = \"btn wide\")\n",
    "    pre_url=pre[1]['href']\n",
    "    print(\"pre url is\",pre_url)\n",
    "    complete_pre_url = urljoin(base_url, pre_url)\n",
    "    results=[]\n",
    "    i = 0\n",
    "    while i < len(big_tag):\n",
    "        num = big_tag[i].find(class_=\"nrec\").next_element.string\n",
    "        try:\n",
    "            title = big_tag[i].find('a').string\n",
    "            textUrl = big_tag[i].find('a','herf')\n",
    "            complete_textUrl = urljoin(base_url, textUrl)\n",
    "        except AttributeError:\n",
    "            title = \"本文已刪除\"\n",
    "            complete_textUrl = '此文章的url不存在'\n",
    "        author = big_tag[i].find(class_='author').string\n",
    "        date=big_tag[i].find(class_='date').string\n",
    "        i=i+1\n",
    "        r = dict(\n",
    "        num=num,\n",
    "        title=title,\n",
    "        author=author,\n",
    "        date=date)\n",
    "        results += [r]\n",
    "        print(num,title,author,date,complete_textUrl)\n",
    "    return results,complete_pre_url,complete_textUrl,title\n",
    "rs,url,complete_textUrl,title= parse_page(soup)\n"
   ]
  },
  {
   "cell_type": "code",
   "execution_count": 17,
   "metadata": {},
   "outputs": [
    {
     "name": "stdout",
     "output_type": "stream",
     "text": [
      "\n",
      "[心得] 理膚寶水防曬噴霧挑戰金門沒曬黑!\n",
      "\n",
      "\n",
      "Re: [閒聊] YSL限量76平價替代色 & 2018的限量脣彩們\n",
      "\n",
      "\n",
      "[閒聊] 今天在西門美華泰買的口紅雨衣\n",
      "\n",
      "\n",
      "[心得] 混合油肌夏粉餅Chanel,suqqu,香緹卡,肌鑰\n",
      "\n",
      "\n",
      "[心得] 超便宜卡翠絲購物心得\n",
      "\n",
      "\n",
      "[心得] maybelline新款金屬唇膏銀河粉 石英紅心\n",
      "\n",
      "\n",
      "[選擇] Joe Blasco 粉底膏選色\n",
      "\n",
      "\n",
      "[靠櫃] 毛孔肌試粉底(花瓣/水粉底/超持妝)\n",
      "\n",
      "\n",
      "[心得] 那些我用過的臉部卸妝好物跟雷物\n",
      "\n",
      "\n",
      "[心得] 英國開架好物：MUA烘焙打亮餅4色分享\n",
      "\n",
      "\n",
      "[心得] Opera金管限定色 #11 #12\n",
      "\n",
      "\n",
      "[選擇] 白肌的粉底調色產品\n",
      "\n",
      "\n",
      "[心得] 我的Sigma刷具使用心得\n",
      "\n",
      "\n",
      "[妝容] 想當芒果少女hen簡單(BH眼妝)\n",
      "\n",
      "\n",
      "[心得] 宛如粉底液般！everydayminerals礦物粉底\n",
      "\n",
      "\n",
      "[心得] Colourpop-Fortune單眼皮的4種眼妝\n",
      "\n",
      "\n",
      "[問題] COVERMARK的柔紗搭配粉盒？\n",
      "\n",
      "\n",
      "\t\t\t\n",
      "\t\t\t\t(本文已被刪除) [llamaduck]\n",
      "\t\t\t\n",
      "\t\t\t\n",
      "\n",
      "[問題] 單眼皮新手日常眼妝求批\n",
      "\n",
      "\n",
      "[閒聊] Zoeva 眼影 南瓜及可可隨身盤\n",
      "\n"
     ]
    }
   ],
   "source": [
    "driver.find_element_by_xpath(\"\"\"//*[@id=\"action-bar-container\"]/div/div[2]/a[2]\"\"\").click()\n",
    "#use soup to parse the page\n",
    "soup = BeautifulSoup(driver.page_source ,\"html.parser\")  \n",
    "xs = soup.select(\".title\")\n",
    "for i in xs:\n",
    "    print(i.text)\n"
   ]
  }
 ],
 "metadata": {
  "kernelspec": {
   "display_name": "Python 3",
   "language": "python",
   "name": "python3"
  },
  "language_info": {
   "codemirror_mode": {
    "name": "ipython",
    "version": 3
   },
   "file_extension": ".py",
   "mimetype": "text/x-python",
   "name": "python",
   "nbconvert_exporter": "python",
   "pygments_lexer": "ipython3",
   "version": "3.6.5"
  }
 },
 "nbformat": 4,
 "nbformat_minor": 2
}
