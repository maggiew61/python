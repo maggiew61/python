{
 "cells": [
  {
   "cell_type": "code",
   "execution_count": 5,
   "metadata": {},
   "outputs": [
    {
     "name": "stdout",
     "output_type": "stream",
     "text": [
      "titles:\n",
      "['Previous Close', 'Open', 'Bid', 'Ask', \"Day's Range\", '52 Week Range', 'Volume', 'Avg. Volume', 'Market Cap', 'Beta', 'PE Ratio (TTM)', 'EPS (TTM)', 'Earnings Date', 'Forward Dividend & Yield', 'Ex-Dividend Date', '1y Target Est']\n",
      "values:\n",
      "['201.50', '201.16', '201.50 x 1000', '201.60 x 900', '199.31 - 202.24', '147.80 - 203.55', '17,420,188', '28,423,115', '583.963B', '0.81', '33.40', '6.04', 'Jul 24, 2018 - Jul 30, 2018', 'N/A (N/A)', 'N/A', '224.18'] \n",
      "\n",
      "Previous Close: 201.50\n",
      "Open: 201.16\n",
      "Bid: 201.50 x 1000\n",
      "Ask: 201.60 x 900\n",
      "Day's Range: 199.31 - 202.24\n",
      "52 Week Range: 147.80 - 203.55\n",
      "Volume: 17,420,188\n",
      "Avg. Volume: 28,423,115\n",
      "Market Cap: 583.963B\n",
      "Beta: 0.81\n",
      "PE Ratio (TTM): 33.40\n",
      "EPS (TTM): 6.04\n",
      "Earnings Date: Jul 24, 2018 - Jul 30, 2018\n",
      "Forward Dividend & Yield: N/A (N/A)\n",
      "Ex-Dividend Date: N/A\n",
      "1y Target Est: 224.18\n"
     ]
    }
   ],
   "source": [
    "from selenium import webdriver\n",
    "from selenium.webdriver.common.by import By  #By: secarch things using specific parameter\n",
    "from selenium.webdriver.support.ui import WebDriverWait #wait for page loads\n",
    "from selenium.webdriver.support import expected_conditions as EC  #specify what you are looking for\n",
    "from selenium.common.exceptions import TimeoutException   #optional, similar to ajax fail message\n",
    "\n",
    "# optional: open web scraping browser in incognito mode. \n",
    "#add 'incognito' command line arg to options\n",
    "option = webdriver.ChromeOptions()\n",
    "option.add_argument(\"--incognito\")\n",
    "\n",
    "\n",
    "# create new instance of chrome in incognito mode; option is refertting to the incognito variable that we passed\n",
    "#'C://..' is where our file of chromedriver is\n",
    "# browser = webdriver.Chrome(\"C:/Users/user/Desktop/TEMP/chromedriver_win32/chromedriver.exe\", chrome_options=option)\n",
    "browser = webdriver.Chrome(\"D:/chromedriver_win32/chromedriver.exe\", chrome_options=option)\n",
    "# go to website of interest\n",
    "browser.get(\"https://finance.yahoo.com/quote/FB?p=FB\")\n",
    "\n",
    "\n",
    "# # wait up to 10 seconds for page to load\n",
    "# timeout = 10\n",
    "# try:  #are other ways of doing it, get the browser to wait until the visiliby of specifed element is available\n",
    "#     #that weird looking syntax is the 'Earnings' title on that page cuz the author notices that's the last thing to load\n",
    "#     #he suggested might not be the most professional way\n",
    "#     #don't understand XPATH just google it; syntax: //'tag name'\n",
    "#     WebDriverWait(browser, timeout).until(EC.visibility_of_element_located((By.XPATH, \"//a[@class='Va(m) C($finDarkLink) Wow(bw) Us(n)']\")))\n",
    "# except TimeoutException:  #if visilibty of that element is not visible within specified timeout, will print this\n",
    "#     print(\"Timed out waiting for page to load\")\n",
    "#     browser.quit()\n",
    "\n",
    "# get all of the titles for the financial values; e.g., previous close/open/bid/ask\n",
    "#find_elemetn... put all the selenium objects in an array\n",
    "#we need multiple elements(titles) so find_elements  ; there is also find_element; \n",
    "titles_element = browser.find_elements_by_xpath(\"//td[@class='C(black) W(51%)']\")\n",
    "#parses the title from selenium objects; x is like i in js for loops; below (written as..) is an explanation\n",
    "titles = [x.text for x in titles_element]  \n",
    "'''\n",
    "WRITTEN AS A NORMAL FOR LOOP:\n",
    "titles = []\n",
    "for x in titles_element:\n",
    "    titles.append(x.text)\n",
    "'''\n",
    "print('titles:')\n",
    "print(titles)\n",
    "\n",
    "\n",
    "# get all of the financial values themselves besides the titles\n",
    "values_element = browser.find_elements_by_xpath(\"//td[@class='Ta(end) Fw(b) Lh(14px)']\")\n",
    "values = [x.text for x in values_element]  # same concept as for-loop/list-comprehension above\n",
    "print('values:')\n",
    "print(values, '\\n')\n",
    "\n",
    "\n",
    "# pair each title with its corresponding value using zip function and print each pair\n",
    "#zip: pass array in zip function and it matches each i and pair them together\n",
    "for title, value in zip(titles, values):\n",
    "    print(title + ': ' + value)"
   ]
  }
 ],
 "metadata": {
  "kernelspec": {
   "display_name": "Python 3",
   "language": "python",
   "name": "python3"
  },
  "language_info": {
   "codemirror_mode": {
    "name": "ipython",
    "version": 3
   },
   "file_extension": ".py",
   "mimetype": "text/x-python",
   "name": "python",
   "nbconvert_exporter": "python",
   "pygments_lexer": "ipython3",
   "version": "3.6.5"
  }
 },
 "nbformat": 4,
 "nbformat_minor": 2
}
