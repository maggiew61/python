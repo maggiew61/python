{
 "cells": [
  {
   "cell_type": "code",
   "execution_count": 2,
   "metadata": {},
   "outputs": [],
   "source": [
    "from bs4 import BeautifulSoup   \n",
    "from selenium import webdriver  \n",
    "\n",
    "\n",
    "#use the 'incognito' mode to scrape the page. completely optional \n",
    "option = webdriver.ChromeOptions()\n",
    "option.add_argument(\"--incognito\")\n",
    "\n",
    "#need to download chromedriver first. get it here: https://chromedriver.storage.googleapis.com/index.html?path=2.40/\n",
    "#below is the path to where the chromedriver.exe is. \n",
    "#you can put it somewhere else, just remember to change the path here\n",
    "driver = webdriver.Chrome(\"D:/chromedriver_win32/chromedriver.exe\", chrome_options=option)\n",
    "\n",
    "driver.get(\"http://worldweather.wmo.int/tc/country.html?countryCode=1\")\n",
    "\n"
   ]
  },
  {
   "cell_type": "code",
   "execution_count": 5,
   "metadata": {},
   "outputs": [
    {
     "name": "stdout",
     "output_type": "stream",
     "text": [
      "84%\n"
     ]
    }
   ],
   "source": [
    "driver.find_element_by_xpath(\"\"\"/html/body/div/div[7]/div[3]/div[1]/div[2]/a\"\"\").click()  \n",
    "\n",
    "#use soup to parse the page\n",
    "soup = BeautifulSoup(driver.page_source ,\"html.parser\")  \n",
    "xs = soup.select(\".present_rh_value\")\n",
    "for i in xs:\n",
    "    print(i.text)"
   ]
  },
  {
   "cell_type": "code",
   "execution_count": 22,
   "metadata": {},
   "outputs": [
    {
     "ename": "SyntaxError",
     "evalue": "invalid character in identifier (<ipython-input-22-041dfaf0efdc>, line 13)",
     "output_type": "error",
     "traceback": [
      "\u001b[1;36m  File \u001b[1;32m\"<ipython-input-22-041dfaf0efdc>\"\u001b[1;36m, line \u001b[1;32m13\u001b[0m\n\u001b[1;33m    doc = soup(page)　#use soup to FETCH this page\u001b[0m\n\u001b[1;37m                    ^\u001b[0m\n\u001b[1;31mSyntaxError\u001b[0m\u001b[1;31m:\u001b[0m invalid character in identifier\n"
     ]
    }
   ],
   "source": [
    "# import webbrowser\n",
    "# url = 'http://www.google.com'\n",
    "# webbrowser.open(url)\n",
    "\n",
    "#goal: disply all <a>tags\n",
    "def get_links(url):\n",
    "    #可寫在裡面\n",
    "    import requests  \n",
    "    from bs4 import BeautifulSoup as soup\n",
    "    \n",
    "    result = requests.get(url)\n",
    "    page = result.text\n",
    "    doc = soup(page)　#use soup to FETCH this page\n",
    "    \n",
    "    #get the 'href' attribtue\n",
    "    links = [element.get('href') for element in doc.find_all('a')]\n",
    "    return links\n",
    "\n",
    "if __name__ == '__main__': #如果本檔案.., 它的名稱就是main函數\n",
    "    import sys\n",
    "    url = 'http://www.yahoo.com'\n",
    "    print ('Links in',url)\n",
    "    \n",
    "    #emumerate使用列舉的方式\n",
    "    for num, link in enumerate(get_links(url),start = 1):\n",
    "        print (num,link)\n",
    "    print()"
   ]
  }
 ],
 "metadata": {
  "kernelspec": {
   "display_name": "Python 3",
   "language": "python",
   "name": "python3"
  },
  "language_info": {
   "codemirror_mode": {
    "name": "ipython",
    "version": 3
   },
   "file_extension": ".py",
   "mimetype": "text/x-python",
   "name": "python",
   "nbconvert_exporter": "python",
   "pygments_lexer": "ipython3",
   "version": "3.6.4"
  }
 },
 "nbformat": 4,
 "nbformat_minor": 2
}
