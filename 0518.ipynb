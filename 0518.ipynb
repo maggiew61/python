{
 "cells": [
  {
   "cell_type": "code",
   "execution_count": 124,
   "metadata": {},
   "outputs": [
    {
     "name": "stdout",
     "output_type": "stream",
     "text": [
      "The autotime extension is already loaded. To reload it, use:\n",
      "  %reload_ext autotime\n",
      "time: 5.46 s\n"
     ]
    }
   ],
   "source": [
    "%load_ext autotime\n",
    "from selenium import webdriver\n",
    " \n",
    "driver = webdriver.Chrome()\n",
    "base_url = 'https://www.ptt.cc/bbs/MakeUp/index.html'\n",
    "driver.get(base_url)\n"
   ]
  },
  {
   "cell_type": "code",
   "execution_count": 3,
   "metadata": {},
   "outputs": [
    {
     "name": "stdout",
     "output_type": "stream",
     "text": [
      "time: 8.02 ms\n"
     ]
    }
   ],
   "source": []
  },
  {
   "cell_type": "code",
   "execution_count": 125,
   "metadata": {},
   "outputs": [
    {
     "name": "stdout",
     "output_type": "stream",
     "text": [
      "time: 18 ms\n"
     ]
    }
   ],
   "source": [
    "ps = driver.page_source\n",
    "from pyquery import PyQuery as pq\n",
    "from lxml import etree\n",
    "import urllib\n",
    "page_source = driver.execute_script(\"return document.documentElement.outerHTML\")\n",
    "page_root = pq(page_source)\n",
    "# d = pq(etree.fromstring(\"<html></html>\"))\n",
    "# d = pq(url='http://google.com/')\n",
    "# d = pq(url='http://google.com/', opener=lambda url, **kw: urllib.urlopen(url).read())\n",
    "# >>> d = pq(filename=path_to_html_file)\n"
   ]
  },
  {
   "cell_type": "code",
   "execution_count": 126,
   "metadata": {
    "scrolled": false
   },
   "outputs": [
    {
     "name": "stdout",
     "output_type": "stream",
     "text": [
      "time: 3.03 s\n"
     ]
    }
   ],
   "source": [
    "from urllib.parse import urljoin\n",
    "\n",
    "def parse_page(page_source):\n",
    "    page_root = pq(page_source)\n",
    "    last_page = pq(page_root('a.btn')[3])\n",
    "    assert '上頁' in last_page.text()\n",
    "    last_page_url = last_page.attr('href')\n",
    "    last_page_url = urljoin(base_url, last_page_url)\n",
    "\n",
    "    results = []\n",
    "    for d in page_root('div.title'):\n",
    "        title = pq(d)('a').text()\n",
    "        try:\n",
    "            nrec = int(pq(d).prev().text())\n",
    "        except ValueError:\n",
    "            nrec = None\n",
    "        m = pq(d).next() # meta\n",
    "        # print(m('.author').text())\n",
    "        author = m('.author').text()\n",
    "        date = m('.date').text().strip()\n",
    "        # print(nrec, title, author, date)\n",
    "        r = dict(\n",
    "            nrec=nrec,\n",
    "            title=title,\n",
    "            author=author,\n",
    "            date=date)\n",
    "        results += [r]\n",
    "    return last_page_url, results\n",
    "\n",
    "url, rs = parse_page(page_source)\n"
   ]
  },
  {
   "cell_type": "code",
   "execution_count": 130,
   "metadata": {
    "scrolled": true
   },
   "outputs": [
    {
     "name": "stdout",
     "output_type": "stream",
     "text": [
      "<selenium.webdriver.remote.webelement.WebElement (session=\"6bfed58e123c32b54cfde4f30cf5f4f4\", element=\"0.06406562964003815-4\")>\n",
      "‹ 上頁\n",
      "time: 1.08 s\n"
     ]
    }
   ],
   "source": [
    "last_page = driver.find_elements_by_css_selector('a.btn')[3]\n",
    "print(last_page)\n",
    "print(last_page.text)\n",
    "# help(last_page)\n",
    "last_page.click()\n",
    "# print(url)\n",
    "# driver.get(url)"
   ]
  },
  {
   "cell_type": "code",
   "execution_count": null,
   "metadata": {
    "collapsed": true
   },
   "outputs": [],
   "source": []
  }
 ],
 "metadata": {
  "kernelspec": {
   "display_name": "Python 3",
   "language": "python",
   "name": "python3"
  },
  "language_info": {
   "codemirror_mode": {
    "name": "ipython",
    "version": 3
   },
   "file_extension": ".py",
   "mimetype": "text/x-python",
   "name": "python",
   "nbconvert_exporter": "python",
   "pygments_lexer": "ipython3",
   "version": "3.6.4"
  }
 },
 "nbformat": 4,
 "nbformat_minor": 2
}
