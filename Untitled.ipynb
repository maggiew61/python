{
 "cells": [
  {
   "cell_type": "code",
   "execution_count": 6,
   "metadata": {},
   "outputs": [
    {
     "name": "stdout",
     "output_type": "stream",
     "text": [
      "soup is <html>\n",
      "<head>\n",
      "<title>Links</title>\n",
      "</head>\n",
      "<body>\n",
      "<h1 id=\"top\">Film Folk</h1>\n",
      "<h2>Festival Diary</h2>\n",
      "<p>Here are some of the film festivals we will be attending this year.<br/>Please <a href=\"mailto:filmfolk@example.org\">contact us</a> if you would like more information.</p>\n",
      "<h3>January</h3>\n",
      "<p><a href=\"http://www.sundance.org\">Sundance Film Festival</a><br/>Park City, Utah, USA<br/>20 - 30 January 2011</p>\n",
      "<h3>February</h3>\n",
      "<p><a href=\"http://www.tropfest.com\">Tropfest</a><br/>Sydney, Australia<br/>20 February 2011</p>\n",
      "<h3>March</h3>\n",
      "<p><a href=\"http://sxsw.com\">South by Southwest</a><br/>Austin, Texas, USA<br/>11 - 20 March 2011</p>\n",
      "<h3>April</h3>\n",
      "<p><a href=\"http://www.londonindependent.org\">London Independent Film Festival</a><br/>London, UK<br/>15 - 24 April 2011</p>\n",
      "<h3>May</h3>\n",
      "<p><a href=\"http://www.festival-cannes.com\">Cannes International Film Festival</a><br/>Cannes, France<br/>11 - 22 May 2011</p>\n",
      "<h3>June</h3>\n",
      "<p><a href=\"http://www.sff.org.au\">Sydney Film Festival</a><br/>Sydney, Australia<br/>8 - 19 June 2011</p>\n",
      "<h3>July</h3>\n",
      "<p><a href=\"http://www.miff.com.au\">Melbourne International Film Festival</a><br/>Melbourne, Victoria, Australia<br/>22 July - 7 August 2011</p>\n",
      "<h3>August</h3>\n",
      "<p><a href=\"http://www.nzff.co.nz\">New Zealand International Film Festival</a><br/>Dunedin, New Zealand<br/>4 - 25 August 2011</p>\n",
      "<h3>September</h3>\n",
      "<p><a href=\"http://www.labiennale.org/en/cinema\">Venice Film Festival</a><br/>Venice, Italy<br/>31 August - 10 September 2011</p>\n",
      "<h3>October</h3>\n",
      "<p><a href=\"http://www.bfi.org.uk/lff/\">London Film Festival</a><br/>London, UK<br/>12 - 27 October 2011</p>\n",
      "<h3>November</h3>\n",
      "<p><a href=\"http://www.idfa.nl/industry.aspx\">International Documentary Film Festival Amsterdam (IDFA)</a><br/>Amsterdam, Netherlands<br/>16 - 27 November 2011</p>\n",
      "<h3>December</h3>\n",
      "<p><a href=\"http://whistlerfilmfestival.com\">Whistler Film Festival</a><br/>Whistler, BC, Canada<br/>30 November - 4 December 2011</p>\n",
      "<p><a href=\"about.html\">About Film Folk</a></p>\n",
      "<p><a href=\"#top\">Top of page</a></p>\n",
      "</body>\n",
      "</html>\n",
      "mailto:filmfolk@example.org\n",
      "http://www.sundance.org\n",
      "http://www.tropfest.com\n",
      "http://sxsw.com\n",
      "http://www.londonindependent.org\n",
      "http://www.festival-cannes.com\n",
      "http://www.sff.org.au\n",
      "http://www.miff.com.au\n",
      "http://www.nzff.co.nz\n",
      "http://www.labiennale.org/en/cinema\n",
      "http://www.bfi.org.uk/lff/\n",
      "http://www.idfa.nl/industry.aspx\n",
      "http://whistlerfilmfestival.com\n",
      "about.html\n",
      "#top\n"
     ]
    }
   ],
   "source": [
    "from bs4 import BeautifulSoup\n",
    "import requests\n",
    "url = \"http://www.htmlandcssbook.com/code-samples/chapter-04/example.html\"\n",
    " \n",
    "# Getting the webpage, creating a Response object.\n",
    "response = requests.get(url)\n",
    " \n",
    "# Extracting the source code of the page.\n",
    "data = response.text\n",
    " \n",
    "# Passing the source code to BeautifulSoup to create a BeautifulSoup object for it.\n",
    "soup = BeautifulSoup(data, 'lxml')\n",
    "print('soup is',soup)\n",
    " \n",
    "# Extracting all the <a> tags into a list.\n",
    "tags = soup.find_all('a')\n",
    " \n",
    "# Extracting URLs from the attribute href in the <a> tags.\n",
    "for tag in tags:\n",
    "    print(tag.get('href'))"
   ]
  }
 ],
 "metadata": {
  "kernelspec": {
   "display_name": "Python 3",
   "language": "python",
   "name": "python3"
  },
  "language_info": {
   "codemirror_mode": {
    "name": "ipython",
    "version": 3
   },
   "file_extension": ".py",
   "mimetype": "text/x-python",
   "name": "python",
   "nbconvert_exporter": "python",
   "pygments_lexer": "ipython3",
   "version": "3.6.4"
  }
 },
 "nbformat": 4,
 "nbformat_minor": 2
}
