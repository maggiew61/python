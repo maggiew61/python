{
 "cells": [
  {
   "cell_type": "code",
   "execution_count": 49,
   "metadata": {},
   "outputs": [
    {
     "name": "stdout",
     "output_type": "stream",
     "text": [
      "<li>Windows</li>\n",
      "        \n",
      "<html>\n",
      "    <head>\n",
      "        <title>Header</title>\n",
      "        <meta charset=\"utf-8\"/>\n",
      "    </head>\n",
      "\n",
      "    <body>\n",
      "        <h2>Operating systems</h2>\n",
      "\n",
      "        <ul id=\"mylist\" style=\"width:150px\">\n",
      "            <li>Solaris</li>\n",
      "            <li>FreeBSD</li>\n",
      "            <li>Debian</li>\n",
      "            <li>NetBSD</li>\n",
      "             \n",
      "        </ul>\n",
      "    </body>\n",
      "</html>\n"
     ]
    }
   ],
   "source": [
    "#!/usr/bin/python3\n",
    "\n",
    "from pyquery import PyQuery as pq\n",
    "\n",
    "# function: print the tag name and its text.\n",
    "# def print_item(seldf, item):\n",
    "#     print('seldf is',seldf)\n",
    "#     print(\"Tag: {0}, Text: {1}\".format(item.tag, item.text))\n",
    "\n",
    "\n",
    "with open(\"index.html\", \"r\") as f:\n",
    "    \n",
    "    contents = f.read()\n",
    "    \n",
    "    doc = pq(contents)\n",
    " \n",
    "    removed_item = doc('li:last').remove()\n",
    "    \n",
    "    print(removed_item)\n",
    "    print(doc)"
   ]
  },
  {
   "cell_type": "code",
   "execution_count": null,
   "metadata": {},
   "outputs": [],
   "source": []
  }
 ],
 "metadata": {
  "kernelspec": {
   "display_name": "Python 3",
   "language": "python",
   "name": "python3"
  },
  "language_info": {
   "codemirror_mode": {
    "name": "ipython",
    "version": 3
   },
   "file_extension": ".py",
   "mimetype": "text/x-python",
   "name": "python",
   "nbconvert_exporter": "python",
   "pygments_lexer": "ipython3",
   "version": "3.6.4"
  }
 },
 "nbformat": 4,
 "nbformat_minor": 2
}
