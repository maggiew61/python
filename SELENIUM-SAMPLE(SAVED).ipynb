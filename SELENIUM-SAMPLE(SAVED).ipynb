{
 "cells": [
  {
   "cell_type": "code",
   "execution_count": 42,
   "metadata": {},
   "outputs": [],
   "source": [
    "from bs4 import BeautifulSoup   \n",
    "from selenium import webdriver  \n",
    "\n",
    "#use the 'incognito' mode to scrape the page. completely optional \n",
    "option = webdriver.ChromeOptions()\n",
    "option.add_argument(\"--incognito\")\n",
    "\n",
    "#need to download chromedriver first. get it here: https://chromedriver.storage.googleapis.com/index.html?path=2.40/\n",
    "#below is the path to where the chromedriver.exe is. \n",
    "#you can put it somewhere else, just remember to change the path here\n",
    "browser = webdriver.Chrome(\"D:/chromedriver_win32/chromedriver.exe\", chrome_options=option)\n",
    "\n",
    "browser.get(\"http://worldweather.wmo.int/tc/city.html?cityId=237\")\n",
    "\n",
    "soup = BeautifulSoup(browser.page_source ,\"html.parser\")  "
   ]
  },
  {
   "cell_type": "code",
   "execution_count": 49,
   "metadata": {},
   "outputs": [
    {
     "name": "stdout",
     "output_type": "stream",
     "text": [
      "47%\n"
     ]
    }
   ],
   "source": [
    "#取得濕度\n",
    "for i in soup.select(\".present_rh_value\"):\n",
    "  print(i.text)"
   ]
  },
  {
   "cell_type": "code",
   "execution_count": 56,
   "metadata": {},
   "outputs": [
    {
     "name": "stdout",
     "output_type": "stream",
     "text": [
      "6月29日(五)\n",
      "6月30日(六)\n",
      "7月1日(日)\n",
      "7月2日(一)\n",
      "7月3日(二)\n",
      "7月4日(三)\n",
      "24°C\n",
      "25°C\n",
      "23°C\n",
      "23°C\n",
      "25°C\n",
      "24°C\n",
      "37°C\n",
      "36°C\n",
      "35°C\n",
      "35°C\n",
      "33°C\n",
      "35°C\n"
     ]
    }
   ],
   "source": [
    "#get the dates and temperatures\n",
    "for i in soup.select(\".city_fc_date.fs0\"):   #兩個class\n",
    "    print(i.text) \n",
    "\n",
    "for j in soup.select(\".min_temp_box.fs0\"):   #兩個class\n",
    "  print(j.text)\n",
    "\n",
    "for f in soup.select(\".max_temp_icon.fs0\"):\n",
    " print(f.text)"
   ]
  }
 ],
 "metadata": {
  "kernelspec": {
   "display_name": "Python 3",
   "language": "python",
   "name": "python3"
  },
  "language_info": {
   "codemirror_mode": {
    "name": "ipython",
    "version": 3
   },
   "file_extension": ".py",
   "mimetype": "text/x-python",
   "name": "python",
   "nbconvert_exporter": "python",
   "pygments_lexer": "ipython3",
   "version": "3.6.5"
  }
 },
 "nbformat": 4,
 "nbformat_minor": 2
}
