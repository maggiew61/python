{
 "cells": [
  {
   "cell_type": "code",
   "execution_count": 22,
   "metadata": {},
   "outputs": [],
   "source": [
    "from selenium import webdriver\n",
    "from selenium.webdriver.common.by import By\n",
    "from selenium.webdriver.support.ui import WebDriverWait\n",
    "from selenium.webdriver.support import expected_conditions as EC\n",
    "\n",
    "option = webdriver.ChromeOptions()\n",
    "option.add_argument(\"--incognito\")\n",
    "\n",
    "\n",
    "driver = webdriver.Chrome(\"D:/chromedriver_win32/chromedriver.exe\",chrome_options=option)\n",
    "driver.get('https://twitter.com/?logged_out=1&lang=en')\n",
    "\n",
    "wait = WebDriverWait(driver, 10)  #wait until element visible\n",
    "\n",
    "user = wait.until(EC.visibility_of_element_located((By.NAME, \"session[username_or_email]\")))\n",
    "user.clear()\n",
    "user.send_keys('maggiew61@yahoo.com')\n",
    "\n",
    "\n",
    "pass1 = wait.until(EC.visibility_of_element_located((By.NAME, \"session[password]\")))\n",
    "pass1.clear()\n",
    "pass1.send_keys('nnlily2002')\n",
    "\n",
    "\n",
    "login = driver.find_element_by_class_name('EdgeButton')\n",
    "login.submit()\n",
    "# sleep(10)\n",
    "# driver.close()"
   ]
  },
  {
   "cell_type": "code",
   "execution_count": 33,
   "metadata": {},
   "outputs": [],
   "source": [
    "search = driver.find_element_by_class_name('search-input')\n",
    "search.send_keys('Donald Trump')\n",
    "search.submit()\n",
    "\n",
    "\n"
   ]
  },
  {
   "cell_type": "code",
   "execution_count": 35,
   "metadata": {},
   "outputs": [],
   "source": [
    "driver.find_element_by_xpath(\"\"\"//*[@id=\"page-container\"]/div[1]/div[2]/div/ul/li[3]/a\"\"\").click()  \n",
    "sleep(5)\n",
    "driver.find_element_by_xpath(\"\"\"//*[@id=\"stream-item-user-25073877\"]/div/div/div[2]/div/div/a\"\"\").click()  \n"
   ]
  },
  {
   "cell_type": "code",
   "execution_count": null,
   "metadata": {},
   "outputs": [],
   "source": []
  }
 ],
 "metadata": {
  "kernelspec": {
   "display_name": "Python 3",
   "language": "python",
   "name": "python3"
  },
  "language_info": {
   "codemirror_mode": {
    "name": "ipython",
    "version": 3
   },
   "file_extension": ".py",
   "mimetype": "text/x-python",
   "name": "python",
   "nbconvert_exporter": "python",
   "pygments_lexer": "ipython3",
   "version": "3.6.4"
  }
 },
 "nbformat": 4,
 "nbformat_minor": 2
}
