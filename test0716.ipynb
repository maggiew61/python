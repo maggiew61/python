{
 "cells": [
  {
   "cell_type": "code",
   "execution_count": null,
   "metadata": {},
   "outputs": [],
   "source": [
    "%matplotlib inline\n",
    "from selenium import webdriver\n",
    "from selenium.webdriver.common.by import By\n",
    "from selenium.webdriver.common.keys import Keys\n",
    "from selenium.webdriver.support.ui import Select\n",
    "from selenium.webdriver.support.ui import WebDriverWait\n",
    "from selenium.common.exceptions import TimeoutException\n",
    "from selenium.webdriver.support import expected_conditions as EC\n",
    "from selenium.common.exceptions import NoSuchElementException\n",
    "from selenium.common.exceptions import NoAlertPresentException\n",
    "import sys\n",
    "\n",
    "import unittest, time, re\n",
    "from bs4 import BeautifulSoup as bs\n",
    "from dateutil import parser\n",
    "import pandas as pd\n",
    "import itertools\n",
    "import matplotlib.pyplot as plt"
   ]
  },
  {
   "cell_type": "code",
   "execution_count": 95,
   "metadata": {},
   "outputs": [],
   "source": [
    "import time\n",
    "from selenium import webdriver\n",
    "from selenium.webdriver.common.by import By\n",
    "from selenium.webdriver.support.ui import WebDriverWait\n",
    "from selenium.webdriver.support import expected_conditions as EC\n",
    "\n",
    "option = webdriver.ChromeOptions()\n",
    "option.add_argument(\"--incognito\")\n",
    "\n",
    "\n",
    "driver = webdriver.Chrome(\"D:/chromedriver_win32/chromedriver.exe\",chrome_options=option)\n",
    "driver.get('https://twitter.com/maggiew61/following')\n"
   ]
  },
  {
   "cell_type": "code",
   "execution_count": 45,
   "metadata": {},
   "outputs": [
    {
     "name": "stdout",
     "output_type": "stream",
     "text": [
      "1\n",
      "2\n",
      "3\n",
      "4\n",
      "5\n",
      "6\n",
      "7\n"
     ]
    }
   ],
   "source": [
    "for i in range(1,8):  #execute sth a number of times,starting from 1 and end at 7\n",
    "    driver.execute_script(\"window.scrollTo(0, document.body.scrollHeight);\")\n",
    "    time.sleep(1)\n",
    "    print(i)"
   ]
  },
  {
   "cell_type": "code",
   "execution_count": 85,
   "metadata": {},
   "outputs": [
    {
     "name": "stdout",
     "output_type": "stream",
     "text": [
      "arr is ['robkardashian', 'KylieJenner', 'KrisJenner', 'khloekardashian', 'KendallJenner', 'kourtneykardash', 'KimKardashian', 'jimmykimmel', 'Oprah', 'TheEllenShow', 'ddlovato', 'selenagomez', 'csa_asc', 'ExploreCanada', 'Canada', 'realDonaldTrump', 'AShinOfficial', 'Mayday_EN']\n",
      "bios is ['snapchat:  robphuckedme', 'http://kyliecosmetics.com\\xa0 http://KylieJennerShop.com\\xa0', 'MOM, MANAGER, MOMAGER, LOVER OF LIFE, LOVER OF CHRIST', 'Get my official app #unlockmyworld http://AppStore.com/KhloeKardashian\\xa0', '', '', '', '1997 Bowling Digest Co-Bowler of the Year  http://Facebook.com/JimmyKimmel\\xa0', '', 'Comedian, talk show host and ice road trucker. My tweets are real, and they’re spectacular.', 'Singer, Songwriter, Actress, Entrepreneur, Philanthropist  #Sober: http://demilovato.co/sober\\xa0', \"Get 'Back To You' out now: http://smarturl.it/backtoyousg\\xa0\", 'The Canadian Space Agency coordinates all civil, space-related programs on behalf of the Government of Canada. Terms: http://bit.ly/1KcFPYP\\xa0 (Français @asc_csa)', \"Welcome to Destination Canada's consumer account. Use #ExploreCanada and we’ll RT our faves. Compte en français: https://twitter.com/ExplorezSansFin\\xa0\", 'Showcasing Canada to the world - français: @AuCanada - http://international.gc.ca/socialmedia\\xa0', '45th President of the United States of America', '末日重生，第二人生，我是五月天阿信。', 'Asian rock band.  http://www.bin-music.com/events/mayday/2017MaydayLiFE/\\xa0…']\n"
     ]
    }
   ],
   "source": [
    "import pandas as pd\n",
    "from bs4 import BeautifulSoup\n",
    "# html_source = driver.page_source\n",
    "# sourcedata= html_source.encode('utf-8')\n",
    "# soup=bs(sourcedata)\n",
    "soup = BeautifulSoup(driver.page_source ,\"html.parser\")\n",
    "#find the attribute \n",
    "arr = [x.div['data-screen-name'] for x in soup.body.find_all('div', attrs={'data-item-type':'user'})]\n",
    "print('arr is',arr)\n",
    "bios = [x.p.text for x in soup.body.findAll('div', attrs={'data-item-type':'user'})]\n",
    "print('bios is',bios)\n",
    "fullnames = [x.text.strip() for x in soup.body.findAll('a', 'fullname')][1:] # avoid your own name\n",
    "d = {'usernames': arr, 'bios': bios, 'fullnames': fullnames}\n",
    "df = pd.DataFrame(data=d)\n",
    "df.to_csv('BASICDATA2.csv')"
   ]
  },
  {
   "cell_type": "code",
   "execution_count": 102,
   "metadata": {},
   "outputs": [
    {
     "name": "stdout",
     "output_type": "stream",
     "text": [
      "doing user:0 robkardashian\n",
      "doing user:1 KylieJenner\n",
      "doing user:2 KrisJenner\n",
      "doing user:3 khloekardashian\n",
      "doing user:4 KendallJenner\n",
      "doing user:5 kourtneykardash\n",
      "doing user:6 KimKardashian\n",
      "doing user:7 jimmykimmel\n",
      "doing user:8 Oprah\n",
      "doing user:9 TheEllenShow\n",
      "doing user:10 ddlovato\n",
      "doing user:11 selenagomez\n",
      "doing user:12 csa_asc\n",
      "doing user:13 ExploreCanada\n",
      "doing user:14 Canada\n"
     ]
    },
    {
     "ename": "WebDriverException",
     "evalue": "Message: chrome not reachable\n  (Session info: chrome=67.0.3396.99)\n  (Driver info: chromedriver=2.40.565498 (ea082db3280dd6843ebfb08a625e3eb905c4f5ab),platform=Windows NT 10.0.17134 x86_64)\n",
     "output_type": "error",
     "traceback": [
      "\u001b[1;31m---------------------------------------------------------------------------\u001b[0m",
      "\u001b[1;31mWebDriverException\u001b[0m                        Traceback (most recent call last)",
      "\u001b[1;32m<ipython-input-102-8c8c10f97af1>\u001b[0m in \u001b[0;36m<module>\u001b[1;34m()\u001b[0m\n\u001b[0;32m     18\u001b[0m     \u001b[1;31m#test\u001b[0m\u001b[1;33m\u001b[0m\u001b[1;33m\u001b[0m\u001b[0m\n\u001b[0;32m     19\u001b[0m \u001b[1;31m#     driver.find_element_by_xpath('//a[@href='/%s']'%currentUser).click()\u001b[0m\u001b[1;33m\u001b[0m\u001b[1;33m\u001b[0m\u001b[0m\n\u001b[1;32m---> 20\u001b[1;33m     \u001b[0mdriver\u001b[0m\u001b[1;33m.\u001b[0m\u001b[0mfind_element_by_xpath\u001b[0m\u001b[1;33m(\u001b[0m\u001b[1;34m\"//a[contains(.,'\"\u001b[0m \u001b[1;33m+\u001b[0m \u001b[0mcurrentUser\u001b[0m \u001b[1;33m+\u001b[0m \u001b[1;34m\"')]\"\u001b[0m\u001b[1;33m)\u001b[0m\u001b[1;33m.\u001b[0m\u001b[0mclick\u001b[0m\u001b[1;33m(\u001b[0m\u001b[1;33m)\u001b[0m\u001b[1;33m\u001b[0m\u001b[0m\n\u001b[0m\u001b[0;32m     21\u001b[0m \u001b[1;31m# browser.find_element_by_xpath(\"//span[contains(.,'\" + x + \"')]\")\u001b[0m\u001b[1;33m\u001b[0m\u001b[1;33m\u001b[0m\u001b[0m\n\u001b[0;32m     22\u001b[0m \u001b[1;31m#     driver.find_element_by_css_selector('#stream-item-user-27989078 > div > div > div.ProfileCard-userFields > div > div > a').click()  #click on the element\u001b[0m\u001b[1;33m\u001b[0m\u001b[1;33m\u001b[0m\u001b[0m\n",
      "\u001b[1;32m~\\Anaconda3\\lib\\site-packages\\selenium\\webdriver\\remote\\webdriver.py\u001b[0m in \u001b[0;36mfind_element_by_xpath\u001b[1;34m(self, xpath)\u001b[0m\n\u001b[0;32m    385\u001b[0m             \u001b[0melement\u001b[0m \u001b[1;33m=\u001b[0m \u001b[0mdriver\u001b[0m\u001b[1;33m.\u001b[0m\u001b[0mfind_element_by_xpath\u001b[0m\u001b[1;33m(\u001b[0m\u001b[1;34m'//div/td[1]'\u001b[0m\u001b[1;33m)\u001b[0m\u001b[1;33m\u001b[0m\u001b[0m\n\u001b[0;32m    386\u001b[0m         \"\"\"\n\u001b[1;32m--> 387\u001b[1;33m         \u001b[1;32mreturn\u001b[0m \u001b[0mself\u001b[0m\u001b[1;33m.\u001b[0m\u001b[0mfind_element\u001b[0m\u001b[1;33m(\u001b[0m\u001b[0mby\u001b[0m\u001b[1;33m=\u001b[0m\u001b[0mBy\u001b[0m\u001b[1;33m.\u001b[0m\u001b[0mXPATH\u001b[0m\u001b[1;33m,\u001b[0m \u001b[0mvalue\u001b[0m\u001b[1;33m=\u001b[0m\u001b[0mxpath\u001b[0m\u001b[1;33m)\u001b[0m\u001b[1;33m\u001b[0m\u001b[0m\n\u001b[0m\u001b[0;32m    388\u001b[0m \u001b[1;33m\u001b[0m\u001b[0m\n\u001b[0;32m    389\u001b[0m     \u001b[1;32mdef\u001b[0m \u001b[0mfind_elements_by_xpath\u001b[0m\u001b[1;33m(\u001b[0m\u001b[0mself\u001b[0m\u001b[1;33m,\u001b[0m \u001b[0mxpath\u001b[0m\u001b[1;33m)\u001b[0m\u001b[1;33m:\u001b[0m\u001b[1;33m\u001b[0m\u001b[0m\n",
      "\u001b[1;32m~\\Anaconda3\\lib\\site-packages\\selenium\\webdriver\\remote\\webdriver.py\u001b[0m in \u001b[0;36mfind_element\u001b[1;34m(self, by, value)\u001b[0m\n\u001b[0;32m    955\u001b[0m         return self.execute(Command.FIND_ELEMENT, {\n\u001b[0;32m    956\u001b[0m             \u001b[1;34m'using'\u001b[0m\u001b[1;33m:\u001b[0m \u001b[0mby\u001b[0m\u001b[1;33m,\u001b[0m\u001b[1;33m\u001b[0m\u001b[0m\n\u001b[1;32m--> 957\u001b[1;33m             'value': value})['value']\n\u001b[0m\u001b[0;32m    958\u001b[0m \u001b[1;33m\u001b[0m\u001b[0m\n\u001b[0;32m    959\u001b[0m     \u001b[1;32mdef\u001b[0m \u001b[0mfind_elements\u001b[0m\u001b[1;33m(\u001b[0m\u001b[0mself\u001b[0m\u001b[1;33m,\u001b[0m \u001b[0mby\u001b[0m\u001b[1;33m=\u001b[0m\u001b[0mBy\u001b[0m\u001b[1;33m.\u001b[0m\u001b[0mID\u001b[0m\u001b[1;33m,\u001b[0m \u001b[0mvalue\u001b[0m\u001b[1;33m=\u001b[0m\u001b[1;32mNone\u001b[0m\u001b[1;33m)\u001b[0m\u001b[1;33m:\u001b[0m\u001b[1;33m\u001b[0m\u001b[0m\n",
      "\u001b[1;32m~\\Anaconda3\\lib\\site-packages\\selenium\\webdriver\\remote\\webdriver.py\u001b[0m in \u001b[0;36mexecute\u001b[1;34m(self, driver_command, params)\u001b[0m\n\u001b[0;32m    312\u001b[0m         \u001b[0mresponse\u001b[0m \u001b[1;33m=\u001b[0m \u001b[0mself\u001b[0m\u001b[1;33m.\u001b[0m\u001b[0mcommand_executor\u001b[0m\u001b[1;33m.\u001b[0m\u001b[0mexecute\u001b[0m\u001b[1;33m(\u001b[0m\u001b[0mdriver_command\u001b[0m\u001b[1;33m,\u001b[0m \u001b[0mparams\u001b[0m\u001b[1;33m)\u001b[0m\u001b[1;33m\u001b[0m\u001b[0m\n\u001b[0;32m    313\u001b[0m         \u001b[1;32mif\u001b[0m \u001b[0mresponse\u001b[0m\u001b[1;33m:\u001b[0m\u001b[1;33m\u001b[0m\u001b[0m\n\u001b[1;32m--> 314\u001b[1;33m             \u001b[0mself\u001b[0m\u001b[1;33m.\u001b[0m\u001b[0merror_handler\u001b[0m\u001b[1;33m.\u001b[0m\u001b[0mcheck_response\u001b[0m\u001b[1;33m(\u001b[0m\u001b[0mresponse\u001b[0m\u001b[1;33m)\u001b[0m\u001b[1;33m\u001b[0m\u001b[0m\n\u001b[0m\u001b[0;32m    315\u001b[0m             response['value'] = self._unwrap_value(\n\u001b[0;32m    316\u001b[0m                 response.get('value', None))\n",
      "\u001b[1;32m~\\Anaconda3\\lib\\site-packages\\selenium\\webdriver\\remote\\errorhandler.py\u001b[0m in \u001b[0;36mcheck_response\u001b[1;34m(self, response)\u001b[0m\n\u001b[0;32m    240\u001b[0m                 \u001b[0malert_text\u001b[0m \u001b[1;33m=\u001b[0m \u001b[0mvalue\u001b[0m\u001b[1;33m[\u001b[0m\u001b[1;34m'alert'\u001b[0m\u001b[1;33m]\u001b[0m\u001b[1;33m.\u001b[0m\u001b[0mget\u001b[0m\u001b[1;33m(\u001b[0m\u001b[1;34m'text'\u001b[0m\u001b[1;33m)\u001b[0m\u001b[1;33m\u001b[0m\u001b[0m\n\u001b[0;32m    241\u001b[0m             \u001b[1;32mraise\u001b[0m \u001b[0mexception_class\u001b[0m\u001b[1;33m(\u001b[0m\u001b[0mmessage\u001b[0m\u001b[1;33m,\u001b[0m \u001b[0mscreen\u001b[0m\u001b[1;33m,\u001b[0m \u001b[0mstacktrace\u001b[0m\u001b[1;33m,\u001b[0m \u001b[0malert_text\u001b[0m\u001b[1;33m)\u001b[0m\u001b[1;33m\u001b[0m\u001b[0m\n\u001b[1;32m--> 242\u001b[1;33m         \u001b[1;32mraise\u001b[0m \u001b[0mexception_class\u001b[0m\u001b[1;33m(\u001b[0m\u001b[0mmessage\u001b[0m\u001b[1;33m,\u001b[0m \u001b[0mscreen\u001b[0m\u001b[1;33m,\u001b[0m \u001b[0mstacktrace\u001b[0m\u001b[1;33m)\u001b[0m\u001b[1;33m\u001b[0m\u001b[0m\n\u001b[0m\u001b[0;32m    243\u001b[0m \u001b[1;33m\u001b[0m\u001b[0m\n\u001b[0;32m    244\u001b[0m     \u001b[1;32mdef\u001b[0m \u001b[0m_value_or_default\u001b[0m\u001b[1;33m(\u001b[0m\u001b[0mself\u001b[0m\u001b[1;33m,\u001b[0m \u001b[0mobj\u001b[0m\u001b[1;33m,\u001b[0m \u001b[0mkey\u001b[0m\u001b[1;33m,\u001b[0m \u001b[0mdefault\u001b[0m\u001b[1;33m)\u001b[0m\u001b[1;33m:\u001b[0m\u001b[1;33m\u001b[0m\u001b[0m\n",
      "\u001b[1;31mWebDriverException\u001b[0m: Message: chrome not reachable\n  (Session info: chrome=67.0.3396.99)\n  (Driver info: chromedriver=2.40.565498 (ea082db3280dd6843ebfb08a625e3eb905c4f5ab),platform=Windows NT 10.0.17134 x86_64)\n"
     ]
    }
   ],
   "source": [
    "from time import sleep\n",
    "df = pd.read_csv('BASICDATA2.csv', encoding = \"ISO-8859-1\")\n",
    "# arr = df.usernames\n",
    "arr = [x.div['data-screen-name'] for x in soup.body.find_all('div', attrs={'data-item-type':'user'})]\n",
    "def getTimestamps(x):\n",
    "    temp = x.findAll('span', '_timestamp')\n",
    "    if len(temp) > 0:\n",
    "        return temp[0].get('data-time')\n",
    "    else:\n",
    "        return None\n",
    "    \n",
    "# now get the user's own timeline\n",
    "for i in range(0,len(arr)):\n",
    "    currentUser = arr[i]\n",
    "    print('doing user:' + str(i) + ' ' + currentUser)\n",
    "#     driver.base_url = \"https://twitter.com/\" + currentUser + '/with_replies'\n",
    "    \n",
    "    #test\n",
    "# https://sqa.stackexchange.com/questions/7178/selecting-xpath-using-a-variable-in-selenium-2\n",
    "    driver.find_element_by_xpath(\"//a[contains(.,'\" + currentUser + \"')]\").click()\n",
    "#     soup = BeautifulSoup(driver.page_source ,\"html.parser\")  #use soup to parse the page\n",
    "    #test ends\n",
    "    \n",
    "#     driver.get(driver.base_url)\n",
    "    html_source = driver.page_source\n",
    "    dailyemail_links = html_source.encode('utf-8')\n",
    "    soup=bs(dailyemail_links, \"lxml\")\n",
    "    time.sleep(2)\n",
    "    driver.execute_script(\"window.scrollTo(0, document.body.scrollHeight);\")\n",
    "    time.sleep(1)\n",
    "    # name\n",
    "    name = soup.find('a', \"ProfileHeaderCard-nameLink\").text\n",
    "    # loc\n",
    "    temp = soup.find('span', 'ProfileHeaderCard-locationText')\n",
    "    temp = temp.text if temp else ''\n",
    "    loc = temp.strip() if temp else ''\n",
    "    # url\n",
    "    temp = soup.find('span', 'ProfileHeaderCard-urlText')\n",
    "    temp = temp.a if temp else None\n",
    "    temp2 = temp.get('title') if temp else None\n",
    "    url = temp2 if temp2 else (temp.get('href') if temp else None)\n",
    "    # stats\n",
    "    temp = soup.find('a',{'data-nav': 'tweets'})\n",
    "    stats_tweets = temp.find('span', 'ProfileNav-value')['data-count'] if temp else 0\n",
    "    temp = soup.find('a',{'data-nav': 'following'})\n",
    "    stats_following = temp.find('span', 'ProfileNav-value')['data-count'] if temp else 0\n",
    "    temp = soup.find('a',{'data-nav': 'followers'})\n",
    "    stats_followers = temp.find('span', 'ProfileNav-value')['data-count'] if temp else 0\n",
    "    temp = soup.find('a',{'data-nav': 'favorites'})\n",
    "    stats_favorites = temp.find('span', 'ProfileNav-value')['data-count'] if temp else 0\n",
    "    # all text\n",
    "    text = [''.join(x.findAll(text=True)) for x in soup.body.findAll('p', 'tweet-text')]\n",
    "    # most recent activity\n",
    "    alltweets = soup.body.findAll('li', attrs={'data-item-type':'tweet'})\n",
    "    tweetTimestamps = list(map(getTimestamps, alltweets)) if len(alltweets) > 0 else 0\n",
    "    # engagements\n",
    "    noretweets = [x.findAll('span', 'ProfileTweet-actionCount') for x in alltweets if not x.div.get('data-retweet-id')]\n",
    "    templist = [x.findAll('span', 'ProfileTweet-actionCount') for x in alltweets if not x.div.get('data-retweet-id')]\n",
    "    templist = [item for sublist in templist for item in sublist]\n",
    "    engagements = sum([int(x.get('data-tweet-stat-count')) for x in templist if x.get('data-tweet-stat-count')])\n",
    "    main = pd.concat([main, pd.DataFrame(data = {\n",
    "        'user': [currentUser],\n",
    "        'text': [text],\n",
    "        'mostrecentTimestamp': [tweetTimestamps],\n",
    "        'engagements': [engagements],\n",
    "        'name': [name],\n",
    "        'loc': [loc],\n",
    "        'url': [url],\n",
    "        'stats_tweets': [stats_tweets],\n",
    "        'stats_following': [stats_following],\n",
    "        'stats_followers': [stats_followers],\n",
    "        'stats_favorites': [stats_favorites],\n",
    "    })])\n",
    "    driver.back()\n",
    "    sleep(5)\n",
    "#     main.to_csv('BASICDATA2.csv')"
   ]
  }
 ],
 "metadata": {
  "kernelspec": {
   "display_name": "Python 3",
   "language": "python",
   "name": "python3"
  },
  "language_info": {
   "codemirror_mode": {
    "name": "ipython",
    "version": 3
   },
   "file_extension": ".py",
   "mimetype": "text/x-python",
   "name": "python",
   "nbconvert_exporter": "python",
   "pygments_lexer": "ipython3",
   "version": "3.6.4"
  },
  "toc": {
   "base_numbering": 1,
   "nav_menu": {},
   "number_sections": true,
   "sideBar": true,
   "skip_h1_title": false,
   "title_cell": "Table of Contents",
   "title_sidebar": "Contents",
   "toc_cell": false,
   "toc_position": {},
   "toc_section_display": true,
   "toc_window_display": false
  }
 },
 "nbformat": 4,
 "nbformat_minor": 2
}
